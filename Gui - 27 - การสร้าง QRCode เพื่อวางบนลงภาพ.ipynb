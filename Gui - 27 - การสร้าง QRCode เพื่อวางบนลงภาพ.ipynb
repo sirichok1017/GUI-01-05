{
 "cells": [
  {
   "cell_type": "code",
   "execution_count": 3,
   "metadata": {},
   "outputs": [],
   "source": [
    "#การสร้าง QR Code เพื่อวางลงบนภาพ\n",
    "# ถ้ายังไม่ติดตั้ง ต้องติดตั้ง Pillow qrcode ก่อน โดยการ pip install Pillow qrcode\n",
    "import qrcode                                           # ใช้ Package QRCode\n",
    "from PIL import Image, ImageFont, ImageDraw\n",
    "\n",
    "def create_qrcode(text, box_size=10, border=1):         # ให้ผู้ใช้ใส่ Text และกำหนดขนาดของ QRCode ในที่นี้กำหนดที่ 10 หมายถึง 10X25 = 250 pixel และ border = 1 หมายความว่า มี border อยู่ 20 pixel\n",
    "    qr = qrcode.QRCode(\n",
    "        error_correction=qrcode.constants.ERROR_CORRECT_Q,\n",
    "        box_size=box_size,  # multiple of 25\n",
    "        border=border  # multiple of 20\n",
    "    )\n",
    "    qr.add_data(text)\n",
    "    qr.make(fit=True)\n",
    "    img = qr.make_image(fill_color=\"black\", back_color=\"white\")\n",
    "    return img\n",
    "\n",
    "\n",
    "def add_watermark(base_img, watermark_img, posx=0, posy=0):     # เป็นการ add Picture โดยมี QRCode แปะลงในภาพ โดยให้ QRCode อยู่ตำแหน่งที่ posx=0, posy=0 หมายความว่าอยู่ตรงมุมบนซ้าย\n",
    "    tmp_img = base_img.copy()                                   # เป็นการ Set ภาพหลัก โดยการเก็บไปไว้ใน tmp_img  \n",
    "    tmp_img.paste(watermark_img, (posx, posy))                  # เป็นการแปะตัว QRCode ลงบนภาพ บนตำแหน่ง posx, posy\n",
    "    # tmp_img.show()\n",
    "    # tmp_image.save(output_image_path)\n",
    "    return tmp_img                                              # รวมให้อยู่ในภาพเดียว\n",
    "\n",
    "\n",
    "def single(input_img_filename, qr_text, output_img_filename):   # ให้ส่งชื่อไฟล์ แล้วก็ text QRCode แล้วก็ให้ระบุตัว output file ได้ ว่าสร้างเสร็จแล้วให้ output file ชื่ออะไร\n",
    "    qr_img = create_qrcode(qr_text, box_size=6, border=1)\n",
    "    base_img = Image.open(input_img_filename)\n",
    "    new_img = add_watermark(base_img, qr_img, base_img.size[0] - qr_img.size[0],  # เป็นการกำหนดตำแหน่งของ QRCode ว่าจะให้อยู่ในตำแหน่งไหน ในตัวอย่างนี้ QRCode จะอยู่ตรงมุมบนซ้าย\n",
    "                            base_img.size[1] - qr_img.size[1])\n",
    "    # new_img.show()\n",
    "    new_img.save(output_img_filename)\n",
    "\n",
    "\n",
    "def batch():\n",
    "    product_info = ['little sheep', 'coffee bean', 'nan จังหวัดน่าน', 'jam']        # ข้อมูลที่จะสร้างเป็น QRCode\n",
    "    for i in range(1, 5):                                                       \n",
    "        qr_img = create_qrcode(product_info[i - 1], box_size=6, border=1)       \n",
    "        s = f'photo-{i}.jpg'                                                     # เป็นการกำหนดให้สามารถวน loop ได้\n",
    "        base_img = Image.open(s)\n",
    "        new_img = add_watermark(base_img, qr_img, 0,       # new image เราก็จะ add QRCode ที่เราสร้างไว้ลงไป\n",
    "                                base_img.size[1] - qr_img.size[1])\n",
    "        # new_img = add_watermark(base_img, qr_img, base_img.size[0] - qr_img.size[0],  # เป็นการคำนวณให้ QRCode อยู่มุมล่างขวามือ โดยการเอา ความสูงของรูป - ความสูงของ QRCode เราจะได้ตำแหน่งที่วาง QRCode\n",
    "        #                         base_img.size[1] - qr_img.size[1])\n",
    "        # new_img.show()\n",
    "        new_img.save(f'qr2-{s}')\n",
    "\n",
    "\n",
    "if __name__ == '__main__':\n",
    "    # create_qrcode(\"Beautiful day\").show()                          # เป็นการสร้าง QRCode ที่ให้แสดงข้อความว่า \"Beautiful day\"\n",
    "    # create_qrcode(\"Beautiful day\").save(\"qr_beautiful.png\")        # เป็นการสร้าง QRCode และให้ save ภาพ QRCode\n",
    "    # single(\"photo-1.jpg\", \"little sheep\\nline: @abc\", \"qr_sheep.jpg\") # เป็นเอารูปภาพ มารวมกับ ORCode ที่พึ่งสร้าง แล้วให้ Save ภาพ รวมกัน แล้วให้กำหนดชื่อว่า qr_sheep.jpg\n",
    "    batch()                                                         # เป็นการสร้าง QRCode รวมกับ base_img และให้ Save ภาพที่รวมกันแล้ว ทีละหลายๆภาพ"
   ]
  },
  {
   "cell_type": "code",
   "execution_count": null,
   "metadata": {},
   "outputs": [],
   "source": []
  }
 ],
 "metadata": {
  "kernelspec": {
   "display_name": "Python 3",
   "language": "python",
   "name": "python3"
  },
  "language_info": {
   "codemirror_mode": {
    "name": "ipython",
    "version": 3
   },
   "file_extension": ".py",
   "mimetype": "text/x-python",
   "name": "python",
   "nbconvert_exporter": "python",
   "pygments_lexer": "ipython3",
   "version": "3.8.1"
  }
 },
 "nbformat": 4,
 "nbformat_minor": 2
}
