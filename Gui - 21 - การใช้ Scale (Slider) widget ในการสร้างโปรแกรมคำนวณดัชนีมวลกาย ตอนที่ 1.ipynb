{
 "cells": [
  {
   "cell_type": "markdown",
   "metadata": {},
   "source": [
    "# การใช้ Scale (Slider) widget ในการสร้างโปรแกรมคำนวณดัชนีมวลกาย ตอนที่ 1\n",
    "### การทำโปรแกรมคำนวณดัชนีมวลกาย(BMI Index) โดยใช้ slider โดย Background ของ BMI Index จะเปลี่ยนสีตามระดับต่างๆ ดังนี้\n",
    "\n",
    "    - BMI Index > 30 Background สีแดง หมายถึง โรคอ้วนอันตราย\n",
    "    - BMI Index 25-29.9 Backgroundสีส้้ม หมายถึง โรคอ้วน\n",
    "    - BMI Index 23-24.9 Backgroundสีเหลือง หมายถึงอ้วน\n",
    "    - BMI Index 18.5-22.9 Backgroundสีเขียว หมายถึง น้ำหนักสมส่วน\n",
    "    - BMI Index < 18.5 Backgroundสีแดง หมายถึง น้ำหนักอยู่ต่ำกว่าเกณฑ์มาตรฐาน"
   ]
  },
  {
   "cell_type": "markdown",
   "metadata": {},
   "source": [
    "<img src=\"image/1589781343181.jpg\" width=300 align=\"center\">"
   ]
  },
  {
   "cell_type": "code",
   "execution_count": 1,
   "metadata": {},
   "outputs": [],
   "source": [
    "from tkinter import * # นำเข้าทุกคำสั่งของ tkinter"
   ]
  },
  {
   "cell_type": "code",
   "execution_count": 2,
   "metadata": {},
   "outputs": [],
   "source": [
    "root = Tk() # สร้าง root ขึ้นมาเป็น main window\n",
    "root.option_add(\"*Font\", \"consolas 20\")  # กำหนดรูปแบบอักษร และขนาดตัวอักษรทั้งหมดใน widget \n",
    "\n",
    "tv_bmi = StringVar() # รับค่ามาเป็นแบบ String\n",
    "\n",
    "# สร้าง label weight ใส่ที่ root ในรูปแบบ grid แถวที่ 0 คอลัมน์ที่ 0  ให้ชิดซ้ายล่าง(sw)\n",
    "# คำสั่ง sticky = (ทิศที่เรากำหนด)ซึ่งในที่นี้เราต้องให้ให้ชิดล่างซ้ายหรือก็คือทิศใต้และทิศตะวันตก\n",
    "# padx เพื่อที่จะไม่ให้ตัว weight กับ height ชิดขอบจนเกินไป\n",
    "Label(root, text=\"weight (kg.)\").grid(row=0, column=0, sticky=\"sw\", padx=10)\n",
    "\n",
    "# สร้าง label height ใส่ที่ root ในรูปแบบ grid แถวที่ 0 คอลัมน์ที่ 0 ให้ชิดซ้ายล่าง(sw)\n",
    "Label(root, text=\"height (cm.)\").grid(row=1, column=0, sticky=\"sw\", padx=10)\n"
   ]
  },
  {
   "cell_type": "code",
   "execution_count": 3,
   "metadata": {},
   "outputs": [],
   "source": [
    "# สร้าง slider weight scale จาก 1-100 โดยวางตามแนวนอน ใส่ไว้ใน object w เพื่อรับค่า\n",
    "# หากว่าเราต้องการให้Scale มีขนาดที่ใหญ่ขึ้น เราสามารถเพิ่มด้วยการกำหนดความยาวกับความกว้างเข้าไป\n",
    "# โดยใช้ length = (ความยาวที่เราต้องการ) , width = (ความกว้างที่เราต้องการ)\n",
    "w = Scale(root, from_=1, to=100, orient=HORIZONTAL, length=200, width=30) \n",
    "w.set(50) # set ค่าเริ่มต้นเป็น 50\n",
    "w.grid(row=0, column=1)\n",
    "\n",
    "# สร้าง slider height scale จาก 1-200 โดยวางตามแนวนอน ใส่ไว้ใน object h เพื่อรับค่า\n",
    "h = Scale(root, from_=1, to=200, orient=HORIZONTAL, length=200, width=30)\n",
    "h.set(160) # set ค่าเริ่มต้นเป็น 160\n",
    "h.grid(row=1, column=1)\n",
    "\n"
   ]
  },
  {
   "cell_type": "code",
   "execution_count": 4,
   "metadata": {},
   "outputs": [],
   "source": [
    "# คำสั่งแสดง GUI window ถ้าไม่มีคำสั่งนี้เวลาสั่ง run จะไม่มีหน้าต่างขึ้น \n",
    "root.mainloop()"
   ]
  },
  {
   "cell_type": "code",
   "execution_count": null,
   "metadata": {},
   "outputs": [],
   "source": []
  },
  {
   "cell_type": "code",
   "execution_count": null,
   "metadata": {},
   "outputs": [],
   "source": []
  }
 ],
 "metadata": {
  "kernelspec": {
   "display_name": "Python 3",
   "language": "python",
   "name": "python3"
  },
  "language_info": {
   "codemirror_mode": {
    "name": "ipython",
    "version": 3
   },
   "file_extension": ".py",
   "mimetype": "text/x-python",
   "name": "python",
   "nbconvert_exporter": "python",
   "pygments_lexer": "ipython3",
   "version": "3.8.1"
  }
 },
 "nbformat": 4,
 "nbformat_minor": 2
}
