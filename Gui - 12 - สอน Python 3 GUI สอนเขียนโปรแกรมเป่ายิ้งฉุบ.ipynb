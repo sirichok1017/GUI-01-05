{
 "cells": [
  {
   "cell_type": "markdown",
   "metadata": {},
   "source": [
    "# การเขียนโปรแกรมเป่ายิ้งฉุบ"
   ]
  },
  {
   "cell_type": "markdown",
   "metadata": {},
   "source": [
    "กำหนดให้ p1 คือผู้เล่น  และ p2 คือคอมพิวเตอร์เป็นผู้เล่น"
   ]
  },
  {
   "cell_type": "code",
   "execution_count": 10,
   "metadata": {},
   "outputs": [
    {
     "ename": "IndentationError",
     "evalue": "unindent does not match any outer indentation level (<tokenize>, line 16)",
     "output_type": "error",
     "traceback": [
      "\u001b[1;36m  File \u001b[1;32m\"<tokenize>\"\u001b[1;36m, line \u001b[1;32m16\u001b[0m\n\u001b[1;33m    p1_stat['wins'] += 1\u001b[0m\n\u001b[1;37m    ^\u001b[0m\n\u001b[1;31mIndentationError\u001b[0m\u001b[1;31m:\u001b[0m unindent does not match any outer indentation level\n"
     ]
    }
   ],
   "source": [
    "from tkinter import *\n",
    "import random \n",
    "\n",
    "\n",
    "def game():  #ออกแบบ user interface\n",
    "    p1_stat = {'wins': 0, 'losses': 0, 'ties': 0} #เก็บค่าสถิติ ทุกครั้ง เมื่อ p1 ชนะ จะเก็บค่าการชนะ แพ้ และเสมอ ไปเรื่อยๆ\n",
    "\n",
    "    def rule(p1_shape, p2_shape):  #สร้าง function การแพ้ ชนะ อย่างไร\n",
    "        if p1_shape == p2_shape:\n",
    "            p1_stat['ties'] += 1\n",
    "            return \"tied\"\n",
    "        elif (p1_shape == 'rock' and p2_shape == 'scissors') #กรณี p1 = ชนะ \n",
    "               or (p1_shape == 'paper' and p2_shape == 'rock') #กรณี p1 =ชนะ \n",
    "               or (p1_shape == 'scissors' and p2_shape == 'paper'): #กรณี p1 =ชนะ \n",
    "            #การเก็บสถิติเมือชนะจะ +1\n",
    "            p1_stat['wins'] += 1\n",
    "            return \"p1 won\"\n",
    "        else:\n",
    "            #การเก็บสถิติเมื่อแพ้ +1\n",
    "            p1_stat['losses'] += 1 \n",
    "            return \"p1 lost\"  #นอกจากนั้น p1 แพ้\n",
    "\n",
    "    def on_click(e):\n",
    "        p1_shape = e.widget[\"text\"] \n",
    "        # print(p1_shape)\n",
    "        p2_shape = random.choice(shapes)  #กำหนดให้ p2 เป็นการ random\n",
    "        # print(p2_shape)\n",
    "        result = rule(p1_shape, p2_shape)\n",
    "        # print(f'result = {result}')\n",
    "        tv_result.set(f'p1:{p1_shape} - p2:{p2_shape} -> {result}')\n",
    "        tv_stat.set(\n",
    "            f'{p1_stat[\"wins\"]} wins, {p1_stat[\"ties\"]} ties, {p1_stat[\"losses\"]} losses') \n",
    "\n",
    "    root = Tk()\n",
    "    root.option_add(\"*Font\", \"consolas 30\")  #กำหนดขนาด และ font ตัวอักร\n",
    "    shapes = ['rock', 'paper', 'scissors'] #สร้างตัวแปรเดียวกับชื่อ file รูปภาพ ค้อน กระดาษ กรรไกร\n",
    "    p1_shapes = [PhotoImage(file=f'{img}.png') for img in shapes] #กำหนดให้ shape เป็นรูปภาพที่ต้องการ\n",
    "    f1 = Frame(root)\n",
    "    f1.grid(row=0, column=0)\n",
    "    f2 = Frame(root)\n",
    "    f2.grid(row=1, column=0)\n",
    "\n",
    "    tv_result = StringVar()  #กำหนด ค่าที่จะผูกกับ label\n",
    "    tv_stat = StringVar()  #กำหนดการเก็บ สถิติ\n",
    "\n",
    "    for i in range(len(p1_shapes)):\n",
    "        w = Button(f1, image=p1_shapes[i], text=shapes[i], borderwidth=0) #กำหนด widgit เป็น botton\n",
    "        w.pack(side=LEFT, padx=15) #กำหนดการเรียงภาพ จากซ้ายไปขวา และ กำหนดช่องว่างระหว่างภาพ\n",
    "        w.bind('<Button-1>', on_click) #กำหนดให้การ click ซ้าย ภายใต้ function on_click\n",
    "    Label(f2, textvariable=tv_result, width=40).pack() #ค่าของ tv_result จะแสดงเมื่อ click\n",
    "    Label(f2, textvariable=tv_stat, width=40, bg=\"gold\").pack() #ค่าของ tv_stat จะเก็บเป็นสถิติ\n",
    "    root.mainloop()\n",
    "\n",
    "\n",
    "if __name__ == '__main__':\n",
    "    # print(rule('rock', 'paper'))\n",
    "    # print(rule('rock', 'scissors'))\n",
    "    # print(rule('rock', 'rock'))\n",
    "    game()\n"
   ]
  },
  {
   "cell_type": "markdown",
   "metadata": {},
   "source": [
    "<img src=\"Image/Rock Paper Scissors.jpg\" width=500>\n",
    "\n",
    "ในการกดเล่นทุกครั้ง เครื่องจะสุ่มการออกค้อน กระดาษ กรรไกร และจะได้ผลแพ้ชนะแต่ละครั้ง\n",
    "โดยผลการแพ้ ชนะ เสมอ จะถูกเก็บไปเรื่อยๆ บริเวณแถบสีเหลืองด้านล่าง"
   ]
  },
  {
   "cell_type": "code",
   "execution_count": null,
   "metadata": {},
   "outputs": [],
   "source": []
  }
 ],
 "metadata": {
  "kernelspec": {
   "display_name": "Python 3",
   "language": "python",
   "name": "python3"
  },
  "language_info": {
   "codemirror_mode": {
    "name": "ipython",
    "version": 3
   },
   "file_extension": ".py",
   "mimetype": "text/x-python",
   "name": "python",
   "nbconvert_exporter": "python",
   "pygments_lexer": "ipython3",
   "version": "3.7.6"
  }
 },
 "nbformat": 4,
 "nbformat_minor": 2
}
