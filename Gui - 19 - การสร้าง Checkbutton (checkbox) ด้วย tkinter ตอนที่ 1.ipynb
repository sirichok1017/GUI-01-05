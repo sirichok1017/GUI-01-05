{
 "cells": [
  {
   "cell_type": "markdown",
   "metadata": {},
   "source": [
    "# Checkbox"
   ]
  },
  {
   "cell_type": "markdown",
   "metadata": {},
   "source": [
    "- Checkbox เป็นส่วนหนึ่งของ GUI Widget มีลักษณะคล้ายกับ Radiobutton แต่จะแตกต่างกันที่ Checkbox สามารถเลือกได้หลายตัวเลือก แต่ Radiobutton สามารถเลือกได้ตัวเลือกเดียว ตัวอย่างของ Checkbox เช่น แบบสอบถามที่สามารถเลือกได้มากกว่า 1 ข้อ เป็นต้น สำหรับการตัวอย่างการสร้าง Checkbox สามารเขียนได้ดังต่อไปนี้"
   ]
  },
  {
   "cell_type": "code",
   "execution_count": 16,
   "metadata": {},
   "outputs": [
    {
     "name": "stdout",
     "output_type": "stream",
     "text": [
      "True True False True False True\n"
     ]
    }
   ],
   "source": [
    "from tkinter import * #เรียกใช้ฟังก์ชั้น tkinter\n",
    "\n",
    "def on_click():#สร้างฟังก์ชัน on_click\n",
    "    print(chk1.get(), chk2.get(), chk3.get(), chk4.get(), chk5.get(), chk6.get()) #ให้แสดงผลเป็นข้อความพร้อมกับค่าของข้อความที่เรากดคลิกปุ่ม\n",
    "\n",
    "root = Tk() #สร้างหน้าต่าง\n",
    "root.option_add(\"*Font\", \"impact 30\") #เลือก font และขนาด\n",
    "chk1 = BooleanVar() # กำหนดค่าตัวแปร chk1 เป็น boolean จะมีค่าแค่ True และ False\n",
    "chk2 = BooleanVar() # กำหนดค่าตัวแปร chk2 เป็น boolean จะมีค่าแค่ True และ False\n",
    "chk3 = BooleanVar() # กำหนดค่าตัวแปร chk3 เป็น boolean จะมีค่าแค่ True และ False\n",
    "chk4 = BooleanVar() # กำหนดค่าตัวแปร chk4 เป็น boolean จะมีค่าแค่ True และ False\n",
    "chk5 = BooleanVar() # กำหนดค่าตัวแปร chk5 เป็น boolean จะมีค่าแค่ True และ False\n",
    "chk6 = BooleanVar() # กำหนดค่าตัวแปร chk6 เป็น boolean จะมีค่าแค่ True และ False\n",
    "\n",
    "Label(root, text=\"Your interest\", bg=\"gold\").pack() #สร้างหัวข้อของ Checkbox พร้อมกับเลือกสี background\n",
    "\n",
    "Checkbutton(root, text=\"Music\", variable=chk1).pack(anchor=W) #สร้าง Checkbox โดยกำหนดให้เป็น Music , anchor=W คือการปรับให้ข้อความชิดด้านซ้าย(West)\n",
    "Checkbutton(root, text=\"Book\", variable=chk2).pack(anchor=W) #สร้าง Checkbox โดยกำหนดให้เป็น Book\n",
    "Checkbutton(root, text=\"Movie\", variable=chk3).pack(anchor=W) #สร้าง Checkbox โดยกำหนดให้เป็น Movie\n",
    "Checkbutton(root, text=\"Photography\", variable=chk4).pack(anchor=W) #สร้าง Checkbox โดยกำหนดให้เป็น Photography\n",
    "Checkbutton(root, text=\"Game\", variable=chk5).pack(anchor=W) #สร้าง Checkbox โดยกำหนดให้เป็น Game\n",
    "Checkbutton(root, text=\"Travel\", variable=chk6).pack(anchor=W) #สร้าง Checkbox โดยกำหนดให้เป็น Travel\n",
    "\n",
    "Button(root, text=\"submit\", command=on_click).pack() #สร้างปุ่ม Submit เพื่อรับค่า\n",
    "\n",
    "root.mainloop() #แสดงผล\n",
    "\n",
    "#ผลลัพธ์ที่ได้จะแสดงหน้าต่าง Checkbox และเมื่อกดเลือกตัวเลือกใดแล้วกด Submit จะแสดงค่า True ส่วนตัวที่ไม่ได้เลือกจแสดงค่า False"
   ]
  }
 ],
 "metadata": {
  "kernelspec": {
   "display_name": "Python 3",
   "language": "python",
   "name": "python3"
  },
  "language_info": {
   "codemirror_mode": {
    "name": "ipython",
    "version": 3
   },
   "file_extension": ".py",
   "mimetype": "text/x-python",
   "name": "python",
   "nbconvert_exporter": "python",
   "pygments_lexer": "ipython3",
   "version": "3.7.6"
  }
 },
 "nbformat": 4,
 "nbformat_minor": 4
}
