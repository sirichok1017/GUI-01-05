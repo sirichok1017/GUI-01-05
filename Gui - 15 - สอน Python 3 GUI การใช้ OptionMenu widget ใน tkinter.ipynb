{
 "cells": [
  {
   "cell_type": "markdown",
   "metadata": {},
   "source": [
    "# Option menu"
   ]
  },
  {
   "cell_type": "markdown",
   "metadata": {},
   "source": [
    "สร้าง Option ให้ผู้ใช้เลือก"
   ]
  },
  {
   "cell_type": "code",
   "execution_count": null,
   "metadata": {},
   "outputs": [],
   "source": [
    "from tkinter import *\n",
    "\n",
    "\n",
    "def on_click(e):\n",
    "    print(selectedOpt.get())\n",
    "    \n",
    "\n",
    "root = Tk()\n",
    "\n",
    "#สร้าง Option  (จะเป็น List , Set หรือ Dictionary ก็ได้) countries = ['Thailand', 'Japan', 'Korea'] \n",
    "countries = {'Thailand': 'th', 'Japan': 'jp', 'Korea': 'kr'}\n",
    "\n",
    "selectedOpt = StringVar()\n",
    "\n",
    "om = OptionMenu(root, selectedOpt, *countries)\n",
    "om.grid(row=0, column=0)\n",
    "btn = Button(root, text='select', bg='orange')\n",
    "btn.grid(row=0, column=1)\n",
    "btn.bind('<Button-1>', on_click) # กำหนดไว้ว่าหากผู้ใช้ Cliick ปุ่ม ให้ไปที่ def on_click\n",
    "\n",
    "root.mainloop()\n"
   ]
  },
  {
   "cell_type": "markdown",
   "metadata": {},
   "source": [
    "<img src=\"Image/Option menu 1.jpg\" width=200>\n",
    "\n",
    "จะแสดง Option ให้เลือก Thailand , Japan , Korea"
   ]
  },
  {
   "cell_type": "code",
   "execution_count": null,
   "metadata": {},
   "outputs": [],
   "source": [
    "from tkinter import *\n",
    "\n",
    "\n",
    "def on_click(e):\n",
    "    # print(selectedOpt.get())\n",
    "    # countries[selectedOpt.get()]\n",
    "    tv_string.set(f'you selected {selectedOpt.get()} ({countries[selectedOpt.get()]})') \n",
    "\n",
    "\n",
    "root = Tk()\n",
    "root.option_add('*Font', 'consolas 25') #กำหนดขนาด Font\n",
    "#สร้าง Option  (จะเป็น List , Set หรือ Dictionary ก็ได้) countries = ['Thailand', 'Japan', 'Korea'] \n",
    "countries = {'Thailand': 'th', 'Japan': 'jp', 'Korea': 'kr'} #กำหนดให้เมื่อเลือก Option จะแสดงตัวย่อ\n",
    "\n",
    "selectedOpt = StringVar()\n",
    "selectedOpt.set('Japan') #กำหนดค่า Defult เมื่อกด run ให้เป็น Japan\n",
    "\n",
    "tv_string = StringVar()\n",
    "\n",
    "om = OptionMenu(root, selectedOpt, *countries)\n",
    "om.config(width=15) #กำหนดขนาด config ให้ขนาดเท่าเดิมตลอด\n",
    "om.grid(row=0, column=0)\n",
    "btn = Button(root, text='select', bg='orange')\n",
    "btn.grid(row=0, column=1)\n",
    "btn.bind('<Button-1>', on_click) # กำหนดไว้ว่าหากผู้ใช้ Cliick ปุ่ม ให้ไปที่ def on_click\n",
    "Label(root, textvariable=tv_string).grid(row=1, columnspan=2) #สร้าง label เมื่อมีการ click จะไป update tv_string\n",
    "root.mainloop()\n"
   ]
  },
  {
   "cell_type": "markdown",
   "metadata": {},
   "source": [
    "<img src=\"Image/Option menu 2.jpg\" width=300>\n",
    "\n",
    "ช่องของ Option จะเป็นไปตาม Config ที่กำหนดไว้\n",
    "\n",
    "\n",
    "<img src=\"Image/Option menu 3.jpg\" width=300>\n",
    "\n",
    "เมื่อเลือก Option แล้ว จะแสดงคำว่า \"ัyou selected \"Option ที่เลือก(ตัวย่อ)\" \"\""
   ]
  },
  {
   "cell_type": "code",
   "execution_count": null,
   "metadata": {},
   "outputs": [],
   "source": [
    "from IPython.lib.display import YouTubeVideo\n",
    "YouTubeVideo('xx4_lcIGC-k')"
   ]
  }
 ],
 "metadata": {
  "kernelspec": {
   "display_name": "Python 3",
   "language": "python",
   "name": "python3"
  },
  "language_info": {
   "codemirror_mode": {
    "name": "ipython",
    "version": 3
   },
   "file_extension": ".py",
   "mimetype": "text/x-python",
   "name": "python",
   "nbconvert_exporter": "python",
   "pygments_lexer": "ipython3",
   "version": "3.7.6"
  }
 },
 "nbformat": 4,
 "nbformat_minor": 2
}
