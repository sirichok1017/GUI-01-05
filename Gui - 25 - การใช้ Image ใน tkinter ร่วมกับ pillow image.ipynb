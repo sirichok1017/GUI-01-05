{
 "cells": [
  {
   "cell_type": "code",
   "execution_count": 1,
   "metadata": {},
   "outputs": [],
   "source": [
    "# การใช้ Image ใน tkinter ร่วมกับ pillow image\n",
    "from tkinter import *\n",
    "from PIL import Image, ImageTk\n",
    "\n",
    "def basic():\n",
    "    root = Tk()\n",
    "    root.option_add(\"*Font\", \"consolas 20\")         # เปลี่ยน Font เป็น consolas size 20\n",
    "    img = Image.open(\"img1.jpg\")                    # อ่านไฟล์ img.jpg\n",
    "    img = img.resize((int(img.width * 2), int(img.height * 2)))   # ปรับขนาด image                  \n",
    "    photo = ImageTk.PhotoImage(img)                 # แปลง Pillow image เป็น TK image\n",
    "    lbl = Label(image=photo)                        # สร้าง label สำหรับเก็บรูป\n",
    "    lbl.pack()\n",
    "    Label(root, text=\"View1\").pack()                # แสดง Text ใต้ image\n",
    "    root.mainloop()\n",
    "\n",
    "def adv():                   # เป็นการ Show หลายภาพต่อกัน\n",
    "    images = ['img2', 'img3', 'img4', 'img1']\n",
    "    root = Tk()\n",
    "    root.option_add(\"*Font\", \"consolas 20\")\n",
    "    img_list = []            # เก็บ list                                                            \n",
    "    for i, img in enumerate(images):        # คำสั่งนี้เป็นการเข้าถึงสมาชิกแต่ละตัวที่อยู่ใน list\n",
    "        img_list.append(ImageTk.PhotoImage(Image.open(f\"{img}.jpg\")))   # เป็นการกำหนดให้ภาพที่เรากำหนด เป็น .jpg\n",
    "        lbl = Label(image=img_list[i])\n",
    "        lbl.grid(row=0, column=i)           # คำสั่งนี้หมายถึงให้ รูปแรก อยู่ทางซ้าย รูปต่อมาจะเรียงต่อกันไปเรื่อยๆ ทางขวามือ\n",
    "        Label(root, text=f\"{img}.jpg\").grid(row=1, column=i)    # เป็นการแสดง text ใต้รูป\n",
    "    root.mainloop()\n",
    "\n",
    "if __name__ == '__main__':\n",
    "    adv()"
   ]
  },
  {
   "cell_type": "code",
   "execution_count": null,
   "metadata": {},
   "outputs": [],
   "source": []
  }
 ],
 "metadata": {
  "kernelspec": {
   "display_name": "Python 3",
   "language": "python",
   "name": "python3"
  },
  "language_info": {
   "codemirror_mode": {
    "name": "ipython",
    "version": 3
   },
   "file_extension": ".py",
   "mimetype": "text/x-python",
   "name": "python",
   "nbconvert_exporter": "python",
   "pygments_lexer": "ipython3",
   "version": "3.8.1"
  }
 },
 "nbformat": 4,
 "nbformat_minor": 2
}
