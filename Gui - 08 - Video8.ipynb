{
 "cells": [
  {
   "cell_type": "markdown",
   "metadata": {},
   "source": [
    "# การผูก (bind) การทำงานของ widget เข้ากับฟังก์ชันด้วย command"
   ]
  },
  {
   "cell_type": "code",
   "execution_count": 1,
   "metadata": {},
   "outputs": [],
   "source": [
    "from tkinter import *"
   ]
  },
  {
   "cell_type": "markdown",
   "metadata": {},
   "source": [
    "# สร้างขอบเขตของตัวแปร\n",
    "\n",
    "    global variable"
   ]
  },
  {
   "cell_type": "code",
   "execution_count": 2,
   "metadata": {},
   "outputs": [],
   "source": [
    "male_cnt = 0\n",
    "female_cnt = 0\n",
    "total_cnt = 0"
   ]
  },
  {
   "cell_type": "code",
   "execution_count": 3,
   "metadata": {},
   "outputs": [],
   "source": [
    "def male_click():\n",
    "    global male_cnt #ใช้ global ที่อยู่ภายใต้ male_cnt #เป็นการอ้งถึง\n",
    "    global total_cnt #ใช้ global ที่อยู่ภายใต้ total_cnt\n",
    "    male_cnt += 1 #ทุกครั้งที่ click ให้บวกค่าเพิ่มขึ้นที่ละ 1\n",
    "    total_cnt += 1 #ทุกครั้งที่ click total_cnt เพิ่มขึ้น 1 \n",
    "    tv_male.set(male_cnt) #ตั้งค่าเมื่อ click ที่ Button male แล้วจะเพิ่มขึ้น 1\n",
    "    tv_total.set(f'total = {total_cnt}') #กำหนดค่าของ total_cnt โดยใช้ f' เป็นการกำหนดให้มีค่าเป็น String"
   ]
  },
  {
   "cell_type": "code",
   "execution_count": 4,
   "metadata": {},
   "outputs": [],
   "source": [
    "def female_click():\n",
    "    global female_cnt\n",
    "    global total_cnt\n",
    "    female_cnt += 1\n",
    "    total_cnt += 1\n",
    "    tv_female.set(female_cnt)\n",
    "    tv_total.set(f'total = {total_cnt}')"
   ]
  },
  {
   "cell_type": "markdown",
   "metadata": {},
   "source": [
    "# กำหนดตัวแปรที่ใช้"
   ]
  },
  {
   "cell_type": "code",
   "execution_count": 5,
   "metadata": {},
   "outputs": [],
   "source": [
    "root = Tk()\n",
    "root.option_add(\"*Font\", \"consolas 25\") #กำหนดขนาดตัวอักษร\n",
    "\n",
    "tv_male = IntVar() #กำหนดค่าของ text ให้เป็นจำนวนจริง\n",
    "tv_female = IntVar() #กำหนดค่า text ให้เป็นจำนวนจริง\n",
    "tv_total = StringVar() "
   ]
  },
  {
   "cell_type": "markdown",
   "metadata": {},
   "source": [
    "# สร้างรูปแบบ lable\n",
    "\n",
    "โดยใช้รูปแบบ grid"
   ]
  },
  {
   "cell_type": "code",
   "execution_count": null,
   "metadata": {},
   "outputs": [],
   "source": [
    "Button(root, text=\"male\", bg=\"deep sky blue\").grid(row=0,column=0,ipady=20)\n",
    "Button(root, text=\"female\", bg=\"hot pink\").grid(row=0,column=1,ipady=20)\n",
    "Label(root, textvariable=tv_male, bg=\"deep sky blue\").grid(row=1, column=0, sticky=\"news\")\n",
    "Label(root, textvariable=tv_female, bg=\"hot pink\").grid(row=1, column=1, sticky=\"news\")\n",
    "Label(root, textvariable=tv_total, bg=\"gold\").grid(row=2, columnspan=2, sticky=\"news\") #สร้าง label ของ colum total โดยที่ใช้ columspan=2 เพื่อคลุม colum ทั้งหมด\n",
    "root.mainloop()"
   ]
  },
  {
   "cell_type": "markdown",
   "metadata": {},
   "source": [
    "# กำหนดการทำงาน Button \n",
    "    * ใช้คำสั่ง command= ฟังก์ชันที่สร้างไว้"
   ]
  },
  {
   "cell_type": "code",
   "execution_count": 3,
   "metadata": {
    "scrolled": false
   },
   "outputs": [
    {
     "ename": "NameError",
     "evalue": "name 'Button' is not defined",
     "output_type": "error",
     "traceback": [
      "\u001b[1;31m---------------------------------------------------------------------------\u001b[0m",
      "\u001b[1;31mNameError\u001b[0m                                 Traceback (most recent call last)",
      "\u001b[1;32m<ipython-input-3-f84c629945ca>\u001b[0m in \u001b[0;36m<module>\u001b[1;34m\u001b[0m\n\u001b[1;32m----> 1\u001b[1;33m \u001b[0mButton\u001b[0m\u001b[1;33m(\u001b[0m\u001b[0mroot\u001b[0m\u001b[1;33m,\u001b[0m \u001b[0mtext\u001b[0m\u001b[1;33m=\u001b[0m\u001b[1;34m\"male\"\u001b[0m\u001b[1;33m,\u001b[0m \u001b[0mbg\u001b[0m\u001b[1;33m=\u001b[0m\u001b[1;34m\"deep sky blue\"\u001b[0m\u001b[1;33m,\u001b[0m \u001b[0mwidth\u001b[0m\u001b[1;33m=\u001b[0m\u001b[1;36m8\u001b[0m\u001b[1;33m,\u001b[0m\u001b[0mcommand\u001b[0m\u001b[1;33m=\u001b[0m\u001b[0mmale_click\u001b[0m\u001b[1;33m)\u001b[0m\u001b[1;33m.\u001b[0m\u001b[0mgrid\u001b[0m\u001b[1;33m(\u001b[0m\u001b[0mrow\u001b[0m\u001b[1;33m=\u001b[0m\u001b[1;36m0\u001b[0m\u001b[1;33m,\u001b[0m\u001b[0mcolumn\u001b[0m\u001b[1;33m=\u001b[0m\u001b[1;36m0\u001b[0m\u001b[1;33m,\u001b[0m\u001b[0mipady\u001b[0m\u001b[1;33m=\u001b[0m\u001b[1;36m20\u001b[0m\u001b[1;33m)\u001b[0m\u001b[1;33m\u001b[0m\u001b[1;33m\u001b[0m\u001b[0m\n\u001b[0m\u001b[0;32m      2\u001b[0m \u001b[0mButton\u001b[0m\u001b[1;33m(\u001b[0m\u001b[0mroot\u001b[0m\u001b[1;33m,\u001b[0m \u001b[0mtext\u001b[0m\u001b[1;33m=\u001b[0m\u001b[1;34m\"female\"\u001b[0m\u001b[1;33m,\u001b[0m \u001b[0mbg\u001b[0m\u001b[1;33m=\u001b[0m\u001b[1;34m\"hot pink\"\u001b[0m\u001b[1;33m,\u001b[0m \u001b[0mwidth\u001b[0m\u001b[1;33m=\u001b[0m\u001b[1;36m8\u001b[0m\u001b[1;33m,\u001b[0m\u001b[0mcommand\u001b[0m\u001b[1;33m=\u001b[0m\u001b[0mfemale_click\u001b[0m\u001b[1;33m)\u001b[0m\u001b[1;33m.\u001b[0m\u001b[0mgrid\u001b[0m\u001b[1;33m(\u001b[0m\u001b[0mrow\u001b[0m\u001b[1;33m=\u001b[0m\u001b[1;36m0\u001b[0m\u001b[1;33m,\u001b[0m\u001b[0mcolumn\u001b[0m\u001b[1;33m=\u001b[0m\u001b[1;36m1\u001b[0m\u001b[1;33m,\u001b[0m\u001b[0mipady\u001b[0m\u001b[1;33m=\u001b[0m\u001b[1;36m20\u001b[0m\u001b[1;33m)\u001b[0m\u001b[1;33m\u001b[0m\u001b[1;33m\u001b[0m\u001b[0m\n\u001b[0;32m      3\u001b[0m \u001b[0mLabel\u001b[0m\u001b[1;33m(\u001b[0m\u001b[0mroot\u001b[0m\u001b[1;33m,\u001b[0m \u001b[0mtextvariable\u001b[0m\u001b[1;33m=\u001b[0m\u001b[0mtv_male\u001b[0m\u001b[1;33m,\u001b[0m \u001b[0mbg\u001b[0m\u001b[1;33m=\u001b[0m\u001b[1;34m\"deep sky blue\"\u001b[0m\u001b[1;33m)\u001b[0m\u001b[1;33m.\u001b[0m\u001b[0mgrid\u001b[0m\u001b[1;33m(\u001b[0m\u001b[0mrow\u001b[0m\u001b[1;33m=\u001b[0m\u001b[1;36m1\u001b[0m\u001b[1;33m,\u001b[0m \u001b[0mcolumn\u001b[0m\u001b[1;33m=\u001b[0m\u001b[1;36m0\u001b[0m\u001b[1;33m,\u001b[0m \u001b[0msticky\u001b[0m\u001b[1;33m=\u001b[0m\u001b[1;34m\"news\"\u001b[0m\u001b[1;33m)\u001b[0m\u001b[1;33m\u001b[0m\u001b[1;33m\u001b[0m\u001b[0m\n\u001b[0;32m      4\u001b[0m \u001b[0mLabel\u001b[0m\u001b[1;33m(\u001b[0m\u001b[0mroot\u001b[0m\u001b[1;33m,\u001b[0m \u001b[0mtextvariable\u001b[0m\u001b[1;33m=\u001b[0m\u001b[0mtv_female\u001b[0m\u001b[1;33m,\u001b[0m \u001b[0mbg\u001b[0m\u001b[1;33m=\u001b[0m\u001b[1;34m\"hot pink\"\u001b[0m\u001b[1;33m)\u001b[0m\u001b[1;33m.\u001b[0m\u001b[0mgrid\u001b[0m\u001b[1;33m(\u001b[0m\u001b[0mrow\u001b[0m\u001b[1;33m=\u001b[0m\u001b[1;36m1\u001b[0m\u001b[1;33m,\u001b[0m \u001b[0mcolumn\u001b[0m\u001b[1;33m=\u001b[0m\u001b[1;36m1\u001b[0m\u001b[1;33m,\u001b[0m \u001b[0msticky\u001b[0m\u001b[1;33m=\u001b[0m\u001b[1;34m\"news\"\u001b[0m\u001b[1;33m)\u001b[0m\u001b[1;33m\u001b[0m\u001b[1;33m\u001b[0m\u001b[0m\n\u001b[0;32m      5\u001b[0m \u001b[0mLabel\u001b[0m\u001b[1;33m(\u001b[0m\u001b[0mroot\u001b[0m\u001b[1;33m,\u001b[0m \u001b[0mtextvariable\u001b[0m\u001b[1;33m=\u001b[0m\u001b[0mtv_total\u001b[0m\u001b[1;33m,\u001b[0m \u001b[0mbg\u001b[0m\u001b[1;33m=\u001b[0m\u001b[1;34m\"gold\"\u001b[0m\u001b[1;33m)\u001b[0m\u001b[1;33m.\u001b[0m\u001b[0mgrid\u001b[0m\u001b[1;33m(\u001b[0m\u001b[0mrow\u001b[0m\u001b[1;33m=\u001b[0m\u001b[1;36m2\u001b[0m\u001b[1;33m,\u001b[0m \u001b[0mcolumnspan\u001b[0m\u001b[1;33m=\u001b[0m\u001b[1;36m2\u001b[0m\u001b[1;33m,\u001b[0m \u001b[0msticky\u001b[0m\u001b[1;33m=\u001b[0m\u001b[1;34m\"news\"\u001b[0m\u001b[1;33m)\u001b[0m \u001b[1;31m#สร้าง label ของ colum total โดยที่ใช้ columspan=2 เพื่อคลุม colum ทั้งหมด\u001b[0m\u001b[1;33m\u001b[0m\u001b[1;33m\u001b[0m\u001b[0m\n",
      "\u001b[1;31mNameError\u001b[0m: name 'Button' is not defined"
     ]
    }
   ],
   "source": [
    "Button(root, text=\"male\", bg=\"deep sky blue\", width=8,command=male_click).grid(row=0,column=0,ipady=20)\n",
    "Button(root, text=\"female\", bg=\"hot pink\", width=8,command=female_click).grid(row=0,column=1,ipady=20)\n",
    "Label(root, textvariable=tv_male, bg=\"deep sky blue\").grid(row=1, column=0, sticky=\"news\")\n",
    "Label(root, textvariable=tv_female, bg=\"hot pink\").grid(row=1, column=1, sticky=\"news\")\n",
    "Label(root, textvariable=tv_total, bg=\"gold\").grid(row=2, columnspan=2, sticky=\"news\") #สร้าง label ของ colum total โดยที่ใช้ columspan=2 เพื่อคลุม colum ทั้งหมด\n",
    "root.mainloop()"
   ]
  },
  {
   "cell_type": "markdown",
   "metadata": {},
   "source": [
    "# ออกแบบโปรแกรมคิดราคาของร้านกาแฟ"
   ]
  },
  {
   "cell_type": "code",
   "execution_count": null,
   "metadata": {},
   "outputs": [],
   "source": [
    "from tkinter import *\n",
    "\n",
    "# color name: https://wiki.tcl.tk/37701\n",
    "\n",
    "# global variables\n",
    "americano_cnt = 0\n",
    "latte_cnt = 0\n",
    "mocha_cnt = 0\n",
    "matchalatte_cnt = 0\n",
    "total_cnt = 0\n",
    "\n",
    "\n",
    "def americano_click():\n",
    "    global americano_cnt\n",
    "    global total_cnt\n",
    "    americano_cnt += 1\n",
    "    total_cnt += 55\n",
    "    tv_americano.set(americano_cnt)\n",
    "    tv_total.set(f'total = {total_cnt}')\n",
    "\n",
    "\n",
    "def latte_click():\n",
    "    global latte_cnt\n",
    "    global total_cnt\n",
    "    latte_cnt += 1\n",
    "    total_cnt += 60\n",
    "    tv_latte.set(latte_cnt)\n",
    "    tv_total.set(f'total = {total_cnt}')\n",
    "\n",
    "def mocha_click():\n",
    "    global mocha_cnt\n",
    "    global total_cnt\n",
    "    mocha_cnt += 1\n",
    "    total_cnt += 55\n",
    "    tv_mocha.set(mocha_cnt)\n",
    "    tv_total.set(f'total = {total_cnt}')\n",
    "\n",
    "def matchalatte_click():\n",
    "    global matchalatte_cnt\n",
    "    global total_cnt\n",
    "    matchalatte_cnt += 1\n",
    "    total_cnt += 60\n",
    "    tv_matchalatte.set(matchalatte_cnt)\n",
    "    tv_total.set(f'total = {total_cnt}')\n",
    "\n",
    "root = Tk()\n",
    "root.option_add(\"*Font\", \"consolas 30\")\n",
    "\n",
    "tv_americano = IntVar()\n",
    "tv_latte = IntVar()\n",
    "tv_mocha = IntVar()\n",
    "tv_matchalatte = IntVar()\n",
    "tv_total = StringVar()\n",
    "\n",
    "Button(root, text=\"americano\", bg=\"deep sky blue\", width=10,\n",
    "       command=americano_click).grid(row=0,\n",
    "                                column=0,\n",
    "                                ipady=20)\n",
    "Button(root, text=\"latte\", bg=\"hot pink\", width=12,\n",
    "       command=latte_click).grid(row=0,\n",
    "                                  column=1,\n",
    "                                  ipady=20)\n",
    "Button(root, text=\"mocha\", bg=\"yellow\", width=10,\n",
    "       command=mocha_click).grid(row=3,\n",
    "                                  column=0,\n",
    "                                  ipady=20)\n",
    "Button(root, text=\"matchalatte\", bg=\"light green\", width=12,\n",
    "       command=matchalatte_click).grid(row=3,\n",
    "                                  column=1,\n",
    "                                  ipady=20)\n",
    "Label(root, textvariable=tv_americano, bg=\"deep sky blue\").grid(row=2, column=0, sticky=\"news\")\n",
    "Label(root, textvariable=tv_latte, bg=\"hot pink\").grid(row=2, column=1, sticky=\"news\")\n",
    "Label(root, textvariable=tv_mocha, bg=\"yellow\").grid(row=4, column=0, sticky=\"news\")\n",
    "Label(root, textvariable=tv_matchalatte, bg=\"light green\").grid(row=4, column=1, sticky=\"news\")\n",
    "Label(root, textvariable=tv_total, bg=\"gold\").grid(row=5, columnspan=3, sticky=\"news\")\n",
    "root.mainloop()"
   ]
  }
 ],
 "metadata": {
  "kernelspec": {
   "display_name": "Python 3",
   "language": "python",
   "name": "python3"
  },
  "language_info": {
   "codemirror_mode": {
    "name": "ipython",
    "version": 3
   },
   "file_extension": ".py",
   "mimetype": "text/x-python",
   "name": "python",
   "nbconvert_exporter": "python",
   "pygments_lexer": "ipython3",
   "version": "3.7.6"
  }
 },
 "nbformat": 4,
 "nbformat_minor": 2
}
