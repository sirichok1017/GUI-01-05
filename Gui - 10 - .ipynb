{
 "cells": [
  {
   "cell_type": "markdown",
   "metadata": {},
   "source": [
    "# การใช้ grid layout ใน tkinter"
   ]
  },
  {
   "cell_type": "markdown",
   "metadata": {},
   "source": [
    "Grid Layout เป็นการจัดวาง Layout แบบ Grid (Table) คือจะเป็นในรูปแบบของตารางและ Column ที่แน่นอน โดยจะเริ่มที่ column ที่ 0 row ที่ 0"
   ]
  },
  {
   "cell_type": "code",
   "execution_count": null,
   "metadata": {},
   "outputs": [],
   "source": [
    "from tkinter import *"
   ]
  },
  {
   "cell_type": "code",
   "execution_count": null,
   "metadata": {},
   "outputs": [],
   "source": [
    "root = Tk()\n",
    "root.option_add(\"*Font\", \"impact 30\")\n",
    "\n",
    "Label(root, text=\"weight (kg.)\").grid(row=0, column=0, sticky=E, padx=10, pady=10)\n",
    "Entry(root, width=6).grid(row=0, column=1) # กำหนด width=6 เพื่อให้ input ข้อมูลได้ 6 หลัก\n",
    "Label(root, text=\"height (m.)\").grid(row=1, column=0, sticky=E, padx=10, pady=10)\n",
    "Entry(root, width=6).grid(row=1, column=1)\n",
    "Label(root, text=\"BMI\").grid(row=2, column=0, sticky=E, padx=10, pady=10)\n",
    "Button(root, text=\"calculate\").grid(row=3, columnspan=2) # columnspan=2 คือทำให้ตำแหน่งของ Button อยู่ตรงกลาง\n",
    "root.mainloop()"
   ]
  }
 ],
 "metadata": {
  "kernelspec": {
   "display_name": "Python 3",
   "language": "python",
   "name": "python3"
  },
  "language_info": {
   "codemirror_mode": {
    "name": "ipython",
    "version": 3
   },
   "file_extension": ".py",
   "mimetype": "text/x-python",
   "name": "python",
   "nbconvert_exporter": "python",
   "pygments_lexer": "ipython3",
   "version": "3.7.6"
  }
 },
 "nbformat": 4,
 "nbformat_minor": 2
}
