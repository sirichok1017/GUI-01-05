{
 "cells": [
  {
   "cell_type": "code",
   "execution_count": 2,
   "metadata": {},
   "outputs": [],
   "source": [
    "# โปรแกรมสร้าง QR Code\n",
    "from tkinter import *          \n",
    "import qrcode                       # ใช้ package QRCode ถ้ามี, ถ้าไม่มีให้ลง package QRCode โดยการ pip install Pillow QRCode\n",
    "from PIL import Image, ImageTk      \n",
    "\n",
    "def create_qrcode(text):            # สร้าง Function สำหรับการสร้าง QRCode\n",
    "    qr = qrcode.QRCode()            # สร้าง QRCode\n",
    "    qr.add_data(text)               # ให้ add ข้อความของเรา\n",
    "    qr.make(fit=True)               # ให้เครื่อง adjust Size ของ QRCode โดยอัตโนมัติ\n",
    "    img = qr.make_image(fill_color=\"black\", back_color=\"white\") # ให้สี QRCode เป็นสีขาว-ดำ\n",
    "    return img                      # ให้ return image กลับไป\n",
    "\n",
    "def demo():\n",
    "    def on_click(e):                \n",
    "        input_text = txt.get(\"0.0\", \"end-1c\")               # เอาค่าจาก text box ที่ใส่ไว้ไปสร้าง QRCode\n",
    "        print(input_text)\n",
    "        img = create_qrcode(input_text).resize((250, 250))  # สร้าง QRCode โดยให้กำหนด size ให้มีขนาด 250x250\n",
    "        imgTk = ImageTk.PhotoImage(img)                     # แปลง image ของ Pillow ให้เป็น ImageTk\n",
    "        qr.configure(image=imgTk)\n",
    "        qr.image = imgTk\n",
    "\n",
    "    root = Tk()\n",
    "    root.title(\"QR code generator\")                         # ตั้งชื่อ Program\n",
    "    root.option_add(\"*Font\", \"consolas 20\")                 # เป็นการเปลี่ยน Font เป็น consolas size 20\n",
    "    Label(root, text=\"enter text\").grid(row=0, column=0)    \n",
    "    txt = Text(root, height=4, width=30, fg=\"green\")        # เป็นการกำหนดกล่องข้อความ\n",
    "    txt.insert(END, \"lilly\")                                # เป็นการกำหนดค่าเริ่มต้น\n",
    "    txt.grid(row=1, column=0)                              \n",
    "    btn = Button(root, text=\"create QR Code\", bg=\"gold\")    # สร้างปุ่มกดให้ Generate QRCode\n",
    "    btn.grid(row=2, column=0)\n",
    "    btn.bind(\"<Button-1>\", on_click)                        # เป็นการกำหนด ถ้าคลิก แล้วค่าที่ได้จะเปลี่ยนไป\n",
    "    qr = Label(root)\n",
    "    qr.grid(row=0, column=1, rowspan=3)                     # กำหนดให้ QRCode อยู่ทางซ้าย และให้มีขนาด 3 column\n",
    "    root.mainloop() \n",
    "\n",
    "if __name__ == '__main__':\n",
    "    demo()"
   ]
  },
  {
   "cell_type": "code",
   "execution_count": null,
   "metadata": {},
   "outputs": [],
   "source": []
  }
 ],
 "metadata": {
  "kernelspec": {
   "display_name": "Python 3",
   "language": "python",
   "name": "python3"
  },
  "language_info": {
   "codemirror_mode": {
    "name": "ipython",
    "version": 3
   },
   "file_extension": ".py",
   "mimetype": "text/x-python",
   "name": "python",
   "nbconvert_exporter": "python",
   "pygments_lexer": "ipython3",
   "version": "3.8.1"
  }
 },
 "nbformat": 4,
 "nbformat_minor": 2
}
