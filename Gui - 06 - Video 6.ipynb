{
 "cells": [
  {
   "cell_type": "markdown",
   "metadata": {},
   "source": [
    "## การใช้ padx, pady, ipadx, ipady, fill"
   ]
  },
  {
   "cell_type": "markdown",
   "metadata": {},
   "source": [
    "* ipadx คือ ช่องว่างระหว่างตัวอักษรกับ Lable แนวแกน x (internal pad แกน X )\n",
    "* ipady คือ ช่องว่างระหว่างตัวอักษรกับ Lable แนวแกน y (internal pad แกน Y)\n",
    "* padx  คือ ช่องว่างระหว่างคำสั่งแนวแกน x ( External pad แกน x)\n",
    "* pady  คือ ช่องว่างระหว่างคำสั่งแนวแกน y ( External pad แกน y)\n",
    "* fill  คือ ทำให้ความกว้างเท่ากับ window"
   ]
  },
  {
   "cell_type": "code",
   "execution_count": 4,
   "metadata": {},
   "outputs": [],
   "source": [
    "from tkinter import *"
   ]
  },
  {
   "cell_type": "code",
   "execution_count": 8,
   "metadata": {},
   "outputs": [],
   "source": [
    "def demo1():\n",
    "    root = Tk()\n",
    "    root.option_add(\"*Font\", \"impact 25\") "
   ]
  },
  {
   "cell_type": "code",
   "execution_count": 1,
   "metadata": {},
   "outputs": [],
   "source": [
    "    Label(root, text=\"mocha\", bg=\"red\").pack(side=TOP, fill=X )\n",
    "    Label(root, text=\"latte\", bg=\"green\").pack(side=TOP, fill=X)\n",
    "    Label(root, text=\"espresso\", bg=\"blue\").pack(side=TOP, fill=X)\n",
    "    root.mainloop()"
   ]
  },
  {
   "cell_type": "markdown",
   "metadata": {},
   "source": [
    "   ## ใช้ ipadx และ ipady เพิ่มระยะห่างระหว่างตัวอักษรกับ Label\n",
    "    ต้องการให้ Lable มีช่องว่างระหว่างตัวอักษรมากขึ้นโดยเพิ่ม ipadx ที่แนวแกน x ให้มีช่องว่างระหว่าง Label กับตัวอักษรเท่ากับ 20\n",
    "    และเพิ่มช่องว่างแนวแกน y เท่ากับ 20"
   ]
  },
  {
   "cell_type": "code",
   "execution_count": 3,
   "metadata": {},
   "outputs": [],
   "source": [
    "    Label(root, text=\"mocha\", bg=\"red\").pack(side=TOP, fill=X, ipadx=20, ipady=20) \n",
    "    Label(root, text=\"latte\", bg=\"green\").pack(side=TOP, fill=X, ipadx=20, ipady=20)\n",
    "    Label(root, text=\"espresso\", bg=\"blue\").pack(side=TOP, fill=X, ipadx=20, ipady=20)\n",
    "    root.mainloop()"
   ]
  }
 ],
 "metadata": {
  "kernelspec": {
   "display_name": "Python 3",
   "language": "python",
   "name": "python3"
  },
  "language_info": {
   "codemirror_mode": {
    "name": "ipython",
    "version": 3
   },
   "file_extension": ".py",
   "mimetype": "text/x-python",
   "name": "python",
   "nbconvert_exporter": "python",
   "pygments_lexer": "ipython3",
   "version": "3.7.6"
  }
 },
 "nbformat": 4,
 "nbformat_minor": 2
}
