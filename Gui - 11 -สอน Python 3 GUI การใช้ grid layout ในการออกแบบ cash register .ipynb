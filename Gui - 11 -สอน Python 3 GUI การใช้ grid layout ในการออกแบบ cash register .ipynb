{
 "cells": [
  {
   "cell_type": "markdown",
   "metadata": {},
   "source": [
    "# Cash register"
   ]
  },
  {
   "cell_type": "markdown",
   "metadata": {},
   "source": [
    "<div> เป็นการทำงานที่สร้างเมนูของสินค้า และสามารถบันทึกรายการขายสินค้าได้ <br> โดยทุกครั้งที่มีการกดขายสินค้า โปรแกรมจะบันทึกข้อมูลการขาย (เมนู , ราคา , เวลาขาย และอื่นๆที่ต้องการ)    <br> เราสามารถนำข้อมูลที่ได้ไปใช้ต่อได้ เช่น เพื่อวิเคราะห์ยอดขายที่เกียวเนื่องกับเวลา , เมนูที่เป็นที่นิยม เป็นต้น ทำให้วางแผนการซื้อวัตถุดิบได้ดียิ่งขึ้น"
   ]
  },
  {
   "cell_type": "code",
   "execution_count": 1,
   "metadata": {},
   "outputs": [],
   "source": [
    "from tkinter import *\n",
    "\n",
    "root = Tk()\n",
    "root.option_add(\"*Font\", \"impact 20\")\n",
    "menus = {\"mocha\": 30, \"latte\": 40, \"espresso\": 50, \"green tea\": 25, \"tea\": 20,\n",
    "         \"Thai tea\": 30, \"coke\": 20, \"water\": 15, \"กาแฟดำ\": 25, \"ชาดำเย็น\": 30} #ออกแบบตัวเมนูที่ต้องการใส่ ใดยใช้ Dictionary เพื่อเก็บชื่อเมู กับ ราคา \n",
    "item_per_row = 3 #กำหนดจำนวน item ต่อ 1 แถว\n",
    "for i, k in enumerate(menus.keys()):  #สั่ง loop .ให้ run ตามลำดับ\n",
    "    btn = Button(root, text=k, width=15)  #สร้างปุ่ม\n",
    "    btn.grid(row=i // item_per_row, column=i % item_per_row) #กำหนดว่าแต่ละแถวมีจำนวนเมนูเท่าไหร่\n",
    "root.mainloop()"
   ]
  },
  {
   "cell_type": "markdown",
   "metadata": {},
   "source": [
    "<img src=\"Image/menus1.jpg\" width=500>\n",
    "\n",
    "mocha เป็นสมาชิกตัวที่ 0 , latte เป็นสมาชิกตัวที่ 1, espresso เป็นสมาชิกตัวที่ 2,\n",
    "green tea เป็นสมาชิกตัวที่ 3, tea เป็นสมาชิกตัวที่ 4, Thai tea เป็นสมาชิกตัวที่ 5, \n",
    "coke เป็นสมาชิกตัวที่ 6, water เป็นสมาชิกตัวที่ 7, กาแฟดำ เป็นสมาชิกตัวที่ 8, \n",
    "ชาดำเย็น เป็นสมาชิกตัวที่ 9 \n",
    "\n",
    "<br> โดย Code :   btn.grid(row=i // item_per_row, column=i % item_per_row)  หมายถึง สมาชิกตัวที่ i ที่หาร 3 ได้กี่ครั้ง จะอยู่แถวที่ i ครั้ง"
   ]
  },
  {
   "cell_type": "code",
   "execution_count": 2,
   "metadata": {},
   "outputs": [],
   "source": [
    "from tkinter import *\n",
    "from datetime import datetime\n",
    "\n",
    "\n",
    "def record_transaction(menu_item):\n",
    "    with open(\"sales.csv\", mode='a', newline='', encoding='UTF-8') as f:\n",
    "        price = menus[menu_item]\n",
    "        dt = datetime.now().strftime(\"%Y-%m-%dT%H:%M:%S\")\n",
    "        f.write(f'{menu_item},{price},{dt}\\n')\n",
    "\n",
    "\n",
    "def show(e):\n",
    "    menu_item = e.widget.cget(\"text\")\n",
    "    # print(f\"menu = {menu_item}, price = {menus[menu_item]} Baht\")\n",
    "    tv_menu.set(f\"menu = {menu_item}, price = {menus[menu_item]} Baht\")\n",
    "    record_transaction(menu_item)\n",
    "\n",
    "\n",
    "root = Tk()\n",
    "root.option_add(\"*Font\", \"impact 20\")\n",
    "menus = {\"mocha\": 30, \"latte\": 40, \"espresso\": 50, \"green tea\": 25, \"tea\": 20,\n",
    "         \"Thai tea\": 30, \"coke\": 20, \"water\": 15, \"กาแฟดำ\": 25, \"ชาดำเย็น\": 30}\n",
    "item_per_row = 2\n",
    "\n",
    "tv_menu = StringVar()\n",
    "\n",
    "for i, k in enumerate(menus.keys()):\n",
    "    btn = Button(root, text=k, width=15)\n",
    "    btn.grid(row=i // item_per_row, column=i % item_per_row)\n",
    "    btn.bind(\"<Button-1>\", show)\n",
    "Label(root, text=\"menu\", textvariable=tv_menu, fg=\"green\").grid(columnspan=item_per_row)\n",
    "root.mainloop()"
   ]
  },
  {
   "cell_type": "markdown",
   "metadata": {},
   "source": [
    "<img src=\"Image/menus2.jpg\" width=500>\n",
    "\n",
    "เมื่อ click เมนูใดจะแสดงค่าเป็นชื่อเมนู และราคา\n",
    "\n",
    "<br> และค่าจะถูกส่งไปเก็บไว้ที่ Excel\n",
    "<img src=\"Image/menus3.jpg\" width=300>"
   ]
  },
  {
   "cell_type": "code",
   "execution_count": null,
   "metadata": {},
   "outputs": [],
   "source": []
  }
 ],
 "metadata": {
  "kernelspec": {
   "display_name": "Python 3",
   "language": "python",
   "name": "python3"
  },
  "language_info": {
   "codemirror_mode": {
    "name": "ipython",
    "version": 3
   },
   "file_extension": ".py",
   "mimetype": "text/x-python",
   "name": "python",
   "nbconvert_exporter": "python",
   "pygments_lexer": "ipython3",
   "version": "3.7.6"
  }
 },
 "nbformat": 4,
 "nbformat_minor": 2
}
