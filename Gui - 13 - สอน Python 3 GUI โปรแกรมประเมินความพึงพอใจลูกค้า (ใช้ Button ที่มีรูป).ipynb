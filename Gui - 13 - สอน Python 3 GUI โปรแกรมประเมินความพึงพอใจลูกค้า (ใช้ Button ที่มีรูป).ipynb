{
 "cells": [
  {
   "cell_type": "markdown",
   "metadata": {},
   "source": [
    "# โปรแกรมประเมินความพึงพอใจลูกค้า"
   ]
  },
  {
   "cell_type": "code",
   "execution_count": 5,
   "metadata": {},
   "outputs": [],
   "source": [
    "from tkinter import *\n",
    "\n",
    "feelings = ['vd', 'd', 'n', 's', 'vs'] #เก็บชื่อรูปใน feeling\n",
    "images = [f'{s}.png' for s in feelings]  # ['vd.png', 'd.png', ... 'vs.png']\n",
    "\n",
    "root = Tk()\n",
    "\n",
    "photos = [PhotoImage(file=img) for img in images] \n",
    "for i in range(len(images)):  #สร้าง loop ของ image\n",
    "    Button(root, image=photos[i]).pack(side=LEFT)\n",
    "    \n",
    "root.mainloop()\n"
   ]
  },
  {
   "cell_type": "markdown",
   "metadata": {},
   "source": [
    "<img src=\"Image/Feeling 1.jpg\" width=300>\n",
    "\n",
    "แสดงรูป ตามที่กำหนด"
   ]
  },
  {
   "cell_type": "code",
   "execution_count": null,
   "metadata": {},
   "outputs": [
    {
     "name": "stdout",
     "output_type": "stream",
     "text": [
      "{'vd': 1, 'd': 0, 'n': 0, 's': 0, 'vs': 0}\n",
      "{'vd': 2, 'd': 0, 'n': 0, 's': 0, 'vs': 0}\n",
      "{'vd': 3, 'd': 0, 'n': 0, 's': 0, 'vs': 0}\n"
     ]
    }
   ],
   "source": [
    "from tkinter import *\n",
    "\n",
    "# global variables\n",
    "feelings = ['vd', 'd', 'n', 's', 'vs'] #เก็บชื่อรูปใน feeling\n",
    "images = [f'{s}.png' for s in feelings]  # ['vd.png', 'd.png', ... 'vs.png']\n",
    "# scores =  {'vd':0, 'd':0, 'n':0, 's':0, 'vs':0}\n",
    "#กำหนดการเก็บค่า\n",
    "scores = {s: 0 for s in feelings}  # {'vd':0, 'd':0, 'n':0, 's':0, 'vs':0}\n",
    "\n",
    "# events\n",
    "def on_click(e):\n",
    "    global scores\n",
    "    selected = e.widget[\"text\"] #กำหนดเมื่อ click ให้บอก text\n",
    "    # print(selected)\n",
    "    scores[selected] += 1 #สั่งเก็บค่า score\n",
    "    print(scores) \n",
    "\n",
    "\n",
    "root = Tk()\n",
    "photos = [PhotoImage(file=img) for img in images] \n",
    "for i in range(len(images)):  #สร้าง loop ของ image\n",
    "    btn = Button(root, image=photos[i], text=feelings[i], borderwidth=0) #กำหนด ปุ่ม ที่มี event\n",
    "    btn.pack(side=LEFT) \n",
    "    btn.bind(\"<Button-1>\", on_click) #ถ้า Click ปุ่มซ้าย ให้เรียก funtion on_click\n",
    "root.mainloop()\n"
   ]
  },
  {
   "cell_type": "markdown",
   "metadata": {},
   "source": [
    "<img src=\"Image/Feeling 2.jpg\" width=300>\n",
    "\n",
    "ค่าที่แสดงเมื่อกด vd ครั้งที่ 1 , 2 และ 3 โดยค่าจะถูกเก็บไปเรื่อยๆ\n",
    "<br> {'vd': 1, 'd': 0, 'n': 0, 's': 0, 'vs': 0}\n",
    "<br> {'vd': 2, 'd': 0, 'n': 0, 's': 0, 'vs': 0}\n",
    "<br> {'vd': 3, 'd': 0, 'n': 0, 's': 0, 'vs': 0}"
   ]
  },
  {
   "cell_type": "code",
   "execution_count": null,
   "metadata": {},
   "outputs": [],
   "source": []
  }
 ],
 "metadata": {
  "kernelspec": {
   "display_name": "Python 3",
   "language": "python",
   "name": "python3"
  },
  "language_info": {
   "codemirror_mode": {
    "name": "ipython",
    "version": 3
   },
   "file_extension": ".py",
   "mimetype": "text/x-python",
   "name": "python",
   "nbconvert_exporter": "python",
   "pygments_lexer": "ipython3",
   "version": "3.7.6"
  }
 },
 "nbformat": 4,
 "nbformat_minor": 2
}
