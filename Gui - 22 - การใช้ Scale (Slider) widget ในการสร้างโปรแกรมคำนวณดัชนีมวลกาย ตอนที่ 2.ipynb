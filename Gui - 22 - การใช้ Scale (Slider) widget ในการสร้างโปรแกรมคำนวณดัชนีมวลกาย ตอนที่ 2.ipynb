{
 "cells": [
  {
   "cell_type": "markdown",
   "metadata": {},
   "source": [
    "# การใช้ Scale (Slider) widget ในการสร้างโปรแกรมคำนวณดัชนีมวลกาย ตอนที่ 2\n",
    "### การทำโปรแกรมคำนวณดัชนีมวลกาย(BMI Index) โดยใช้ slider โดย Background ของ BMI Index จะเปลี่ยนสีตามระดับต่างๆ ดังนี้\n",
    "\n",
    "    - BMI Index > 30 Background สีแดง หมายถึง โรคอ้วนอันตราย\n",
    "    - BMI Index 25-29.9 Backgroundสีส้้ม หมายถึง โรคอ้วน\n",
    "    - BMI Index 23-24.9 Backgroundสีเหลือง หมายถึงอ้วน\n",
    "    - BMI Index 18.5-22.9 Backgroundสีเขียว หมายถึง น้ำหนักสมส่วน\n",
    "    - BMI Index < 18.5 Backgroundสีแดง หมายถึง น้ำหนักอยู่ต่ำกว่าเกณฑ์มาตรฐาน\n"
   ]
  },
  {
   "cell_type": "markdown",
   "metadata": {},
   "source": [
    "<img src=\"image/1589772790764.jpg\" width=300 align=\"center\">"
   ]
  },
  {
   "cell_type": "code",
   "execution_count": 9,
   "metadata": {},
   "outputs": [],
   "source": [
    "from tkinter import * # นำเข้าทุกคำสั่งของ tkinter"
   ]
  },
  {
   "cell_type": "code",
   "execution_count": 10,
   "metadata": {},
   "outputs": [],
   "source": [
    "def on_drag(e):\n",
    "    # การรับค่า w และค่า h ที่เราได้จากเลื่อน Scale โดยใช้ w.get() และ h.get()\n",
    "    # มาคำนวณโดยใช้สูตร น้ำหนัก (กิโลกรัม) / [ส่วนสูง (เมตร)]²\n",
    "    bmi = w.get() / (h.get() / 100) ** 2 \n",
    "    \n",
    "   \n",
    " # เอา BMI มาแปลงเป็น text variable และ format ให้มีจุดทศนิยม 2 ตำแหน่งใส่ในตัวแปร tv_bmi\n",
    "    tv_bmi.set(f'BMI = {bmi:.2f}')  \n",
    "    \n",
    "    color_zone = \"\" # ตัวแปรรับค่าสี\n",
    "    if bmi > 30: # ถ้า BMI > 30 ให้ color_zone เป็นสีแดง #โรคอ้วนอันตราย\n",
    "        color_zone = \"red\"\n",
    "    elif bmi >= 25: # ถ้า BMI < 30 และ >= 25 ให้ color_zone เป็นสีส้ม #โรคอ้วน\n",
    "        color_zone = \"orange\"\n",
    "    elif bmi >= 23: # ถ้า BMI < 25 และ >= 23 ให้ color_zone เป็นสีเหลือง #อ้วน\n",
    "        color_zone = \"yellow\"\n",
    "    elif bmi >= 18.5: # ถ้า BMI < 23 และ >= 18.5 ให้ color_zone เป็นสีเขียว #น้ำหนักสมส่วน\n",
    "        color_zone = \"green\"\n",
    "    else: # ถ้า BMI ไม่เข้าเงื่อนไขด้านบนให้ color_zone เป็นสีแดง #น้ำหนักอยู่ต่ำกว่าเกณฑ์มาตรฐาน\n",
    "        color_zone = \"red\"\n",
    "        \n",
    "    # ตัวแปร lbl_bmi ขอเข้าถึง Attribute หรือ properties ที่ชื่อ bg #background\n",
    "    # รับค่าสีจาก color_zone เพื่อที่จะแสดงสีออกมาตรงตามที่เราต้องการ\n",
    "    lbl_bmi[\"bg\"] = color_zone "
   ]
  },
  {
   "cell_type": "code",
   "execution_count": 11,
   "metadata": {},
   "outputs": [],
   "source": [
    "root = Tk() # สร้าง root ขึ้นมาเป็น main window\n",
    "root.option_add(\"*Font\", \"consolas 20\")  # กำหนดรูปแบบอักษร และขนาดตัวอักษรทั้งหมดใน widget \n",
    "\n",
    "tv_bmi = StringVar() # รับค่ามาเป็นแบบ String\n",
    "\n",
    "# สร้าง label weight ใส่ที่ root ในรูปแบบ grid แถวที่ 0 คอลัมน์ที่ 0  ให้ชิดซ้ายล่าง(sw)\n",
    "# คำสั่ง sticky = (ทิศที่เรากำหนด)ซึ่งในที่นี้เราต้องให้ให้ชิดล่างซ้ายหรือก็คือทิศใต้และทิศตะวันตก\n",
    "# padx เพื่อที่จะไม่ให้ตัว weight กับ height ชิดขอบจนเกินไป\n",
    "Label(root, text=\"weight (kg.)\").grid(row=0, column=0, sticky=\"sw\", padx=10)\n",
    "\n",
    "# สร้าง label height ใส่ที่ root ในรูปแบบ grid แถวที่ 0 คอลัมน์ที่ 0 ให้ชิดซ้ายล่าง(sw)\n",
    "Label(root, text=\"height (cm.)\").grid(row=1, column=0, sticky=\"sw\", padx=10)\n"
   ]
  },
  {
   "cell_type": "code",
   "execution_count": 12,
   "metadata": {},
   "outputs": [],
   "source": [
    "# สร้าง slider weight scale จาก 1-100 โดยวางตามแนวนอน ใส่ไว้ใน object w เพื่อรับค่า\n",
    "# หากว่าเราต้องการให้Scale มีขนาดที่ใหญ่ขึ้น เราสามารถเพิ่มด้วยการกำหนดความยาวกับความกว้างเข้าไป\n",
    "# โดยใช้ length = (ความยาวที่เราต้องการ) , width = (ความกว้างที่เราต้องการ)\n",
    "w = Scale(root, from_=1, to=100, orient=HORIZONTAL, length=200, width=30) \n",
    "w.set(50) # set ค่าเริ่มต้นเป็น 50\n",
    "\n",
    "# '<B1-Motion>'เมื่อใดก็ตามที่มีการลาก Scale ให้ส่งค่าไปคำนวณ BMI ที่ on_drag\n",
    "# '<Button-1>'เมื่อใดก็ตามที่มีการคลิกเมาส์ซ้าย ให้ส่งค่าไปคำนวณ BMI ที่ on_drag\n",
    "# หากเราไม่ทำการส่งค่าใน Scale ตัว Scale จะแค่เลื่อนไปมาได้อย่างเดียว\n",
    "w.bind('<B1-Motion>', on_drag)\n",
    "w.bind('<Button-1>', on_drag)\n",
    "w.grid(row=0, column=1)\n",
    "\n",
    "\n",
    "\n",
    "# สร้าง slider height scale จาก 1-200 โดยวางตามแนวนอน ใส่ไว้ใน object h เพื่อรับค่า\n",
    "h = Scale(root, from_=1, to=200, orient=HORIZONTAL, length=200, width=30)\n",
    "h.set(160) # set ค่าเริ่มต้นเป็น 160\n",
    "h.bind('<B1-Motion>', on_drag)\n",
    "h.bind('<Button-1>', on_drag)\n",
    "h.grid(row=1, column=1)\n",
    "\n"
   ]
  },
  {
   "cell_type": "code",
   "execution_count": 13,
   "metadata": {},
   "outputs": [],
   "source": [
    "# สร้าง label BMI ใส่ที่ root \n",
    "lbl_bmi = Label(root, textvariable=tv_bmi) \n",
    "\n",
    "# ในรูปแบบ grid แถวที่ 3 ความกว้าง 2 คอลัมน์  โดยให้แถบชิดทุกทิศ บนล่างซ้ายขวา (news)\n",
    "lbl_bmi.grid(row=3, columnspan=2, sticky=\"news\")"
   ]
  },
  {
   "cell_type": "code",
   "execution_count": 14,
   "metadata": {},
   "outputs": [],
   "source": [
    "# คำสั่งแสดง GUI window ถ้าไม่มีคำสั่งนี้เวลาสั่ง run จะไม่มีหน้าต่างขึ้น \n",
    "root.mainloop()"
   ]
  },
  {
   "cell_type": "code",
   "execution_count": null,
   "metadata": {},
   "outputs": [],
   "source": []
  }
 ],
 "metadata": {
  "kernelspec": {
   "display_name": "Python 3",
   "language": "python",
   "name": "python3"
  },
  "language_info": {
   "codemirror_mode": {
    "name": "ipython",
    "version": 3
   },
   "file_extension": ".py",
   "mimetype": "text/x-python",
   "name": "python",
   "nbconvert_exporter": "python",
   "pygments_lexer": "ipython3",
   "version": "3.8.1"
  }
 },
 "nbformat": 4,
 "nbformat_minor": 2
}
