{
 "cells": [
  {
   "cell_type": "markdown",
   "metadata": {},
   "source": [
    "# Radiobutton"
   ]
  },
  {
   "cell_type": "markdown",
   "metadata": {},
   "source": [
    "- Radiobutton เป็นส่วนหนึ่งของ GUI Widget จะใช้ในการเลือกแค่ตัวเลือกนั้นตัวเลือกเดียว ไม่สามารถเลือกได้หลายตัวเลือก การใช้ตัวเลือกลักษณะนี้อาจทำได้หลายหลายรูปแบบ เช่น การทำแบบทดสอบ การประเมินผล การทำแบบสอบถามความคิดเห็น ทำให้ง่ายต่อการเก็บข้อมูล เป็นต้น สำหรับตัวอย่างการเขียน Radiobutton สำหรับการเลือกเพศสามารถเขียนได้ตามตัวอย่างดังต่อไปนี้"
   ]
  },
  {
   "cell_type": "code",
   "execution_count": 21,
   "metadata": {},
   "outputs": [],
   "source": [
    "from tkinter import * #เรียกใช้ฟังก์ชั้น tkinter\n",
    "\n",
    "root = Tk() #สร้างหน้าต่าง\n",
    "root.option_add(\"*Font\", \"impact  20\") #เลือก font และขนาด\n",
    "\n",
    "\n",
    "V_gender = StringVar() # สร้างตัวแปรเพื่อใช้ผูค่าสำหรับ Radiobuttoin ในบรรทัดถัดไป\n",
    "V_gender.set(\"f\") #ตั้งค่าเริ่มต้นไว้ให้เป็น female\n",
    "\n",
    "\n",
    "showIndicator = False #กำหนดค่าของตัวแปรไว้ใช้กับฟังก์ชัน Indicatoron ถ้าเป็น True จะได้เป็นปุ่มวงกลม ถ้า False จะได้เป็นสี่เหลี่ยมนูนขึ้นมา\n",
    "\n",
    "Radiobutton(root, text=\"male\", value=\"m\", variable= V_gender, \n",
    "            fg=\"deep sky blue\", indicatoron=showIndicator).pack(side=LEFT, padx=10) #กำหนดลักษณะต่างๆที่ต้องการสร้างใส่คำ สี ค่า เป็นต้น\n",
    "Radiobutton(root, text=\"female\", value=\"f\", variable= V_gender, \n",
    "            fg=\"pink\", indicatoron=showIndicator).pack(side=LEFT, padx=10)#กำหนดลักษณะต่างๆที่ต้องการสร้างใส่คำ สี ค่า เป็นต้น\n",
    "\n",
    "\n",
    "root.mainloop() #แสดงผล"
   ]
  },
  {
   "cell_type": "markdown",
   "metadata": {},
   "source": [
    "## การดึงค่าเมื่อมีการกดปุ่มเลือก"
   ]
  },
  {
   "cell_type": "code",
   "execution_count": 22,
   "metadata": {},
   "outputs": [
    {
     "name": "stdout",
     "output_type": "stream",
     "text": [
      "f\n",
      "m\n"
     ]
    }
   ],
   "source": [
    "from tkinter import * \n",
    "\n",
    "def on_select(): #กำหนดฟังก์ชัน On_select\n",
    "    print(V_gender.get()) #แสดงผล\n",
    "root = Tk() \n",
    "root.option_add(\"*Font\", \"impact  20\") \n",
    "\n",
    "\n",
    "V_gender = StringVar() \n",
    "V_gender.set(\"f\") \n",
    "\n",
    "\n",
    "showIndicator = True\n",
    "Radiobutton(root, text=\"male\", value=\"m\", variable= V_gender, fg=\"deep sky blue\", \n",
    "            indicatoron=showIndicator, command=on_select).pack(side=LEFT, padx=10) #เพิ่มฟังก์ชัน command\n",
    "Radiobutton(root, text=\"female\", value=\"f\", variable= V_gender, fg=\"pink\", \n",
    "            indicatoron=showIndicator,command=on_select).pack(side=LEFT, padx=10)#เพิ่มฟังก์ชัน command\n",
    "\n",
    "\n",
    "root.mainloop() "
   ]
  },
  {
   "cell_type": "markdown",
   "metadata": {},
   "source": [
    "### การเขียน Radiobotton เมื่อข้อมูลที่จะนำมาใช้มีหลายค่า"
   ]
  },
  {
   "cell_type": "code",
   "execution_count": 34,
   "metadata": {},
   "outputs": [
    {
     "name": "stdout",
     "output_type": "stream",
     "text": [
      "Japanese jp\n"
     ]
    }
   ],
   "source": [
    "from tkinter import * \n",
    "\n",
    "d = {\"thai\":\"th\",\"Japanese\":\"jp\", \"korean\":\"kr\", \"Chinese\":\"cn\", \"French\":\"Fr\",\n",
    "    \"Australian\":\"au\", \"American\":\"us\"} # สร้าง list ไว้สำหรับเก็บค่า\n",
    "\n",
    "def on_select(e): #สร้างฟังก์ชัน on_select\n",
    "    print(e.widget[\"text\"], e.widget['value']) #ให้แสดงผลเป็นข้อความพร้อมกับค่าของข้อความที่เรากดคลิกปุ่ม\n",
    "\n",
    "root = Tk() \n",
    "root.option_add(\"*Font\", \"impact  20\") \n",
    "tv_code = StringVar()\n",
    "tv_code.set('th')#ตั้งค่าเริ่มต้นไว้ให้เป็น Thailand\n",
    "n_col=3 # กำหนดให้เป็น 3 คอลัมน์\n",
    "i = 0 # ใหตัวแปร i มีค่าเป็น 0\n",
    "\n",
    "for k, v in d.items():  # สร้างลูปไว้สำหรับการรันค่าตาม list ที่เราสร้างไว้\n",
    "    r = Radiobutton(root, text=k, value=v,\n",
    "                    indicatoron=False,\n",
    "                    width = 11,\n",
    "                    variable=tv_code,\n",
    "                     bg = \"green\")\n",
    "    r.bind(\"<Button-1>\", on_select) #ใช้สหรับให้ดึงค่าออกมาเมื่อมีการกดปุ่มเลือก\n",
    "#     r.pack(anchor=W, side=LEFT) #ปรับให้ค่าที่แสดงผลไปชิดด้านซ้าย และให้แสดงผลเป็นแถวแนวนอน\n",
    "    r.grid(row=i // n_col, column=i % n_col) #สร้างรูปแบบของตาราง\n",
    "    i += 1\n",
    "\n",
    "root.mainloop() "
   ]
  },
  {
   "cell_type": "code",
   "execution_count": null,
   "metadata": {},
   "outputs": [],
   "source": []
  }
 ],
 "metadata": {
  "kernelspec": {
   "display_name": "Python 3",
   "language": "python",
   "name": "python3"
  },
  "language_info": {
   "codemirror_mode": {
    "name": "ipython",
    "version": 3
   },
   "file_extension": ".py",
   "mimetype": "text/x-python",
   "name": "python",
   "nbconvert_exporter": "python",
   "pygments_lexer": "ipython3",
   "version": "3.7.6"
  }
 },
 "nbformat": 4,
 "nbformat_minor": 4
}
