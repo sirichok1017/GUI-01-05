{
 "cells": [
  {
   "cell_type": "markdown",
   "metadata": {},
   "source": [
    "# combobox"
   ]
  },
  {
   "cell_type": "markdown",
   "metadata": {},
   "source": [
    "-  เป็นกล่องสำหรับการเก็บข้อมูล โดยปกติมักจะเก็บค่าได้เพียง 1 ค่าเท่านั้น แต่สามารถที่จะสร้างได้หลายๆกล่องเพื่อใช้ในการเก็บค่าตามที่ต้องการ ซึ่งมักจะมีลักษณะคล้ายเมนู Dropdown\n",
    "ตัวอย่างที่พบเห็นได้บ่อยครั้ง เช่น วันที่/เดือน/ปี เป็นต้น นอกจากนี้ยังสามารถกำหนดค่าเริ่มต้นของข้อมูลในกล่องหรือปรับค่าให้สามารถป้อนข้อมูลอื่นนอกเหนือจากตัวเลือกได้ สามารถสร้างได้ตามตัวอย่างต่อไปนี้"
   ]
  },
  {
   "cell_type": "code",
   "execution_count": 92,
   "metadata": {},
   "outputs": [],
   "source": [
    "from tkinter import *\n",
    "from tkinter import ttk   #ttk เป็น Themed ที่มี Widgets บางตัวที่ไม่อยู่ใน tk แต่ยู่ใน ttk ซึ่ง Combobox เป็นหนึ่งในนั้น"
   ]
  },
  {
   "cell_type": "code",
   "execution_count": 93,
   "metadata": {},
   "outputs": [],
   "source": [
    "root = Tk()\n",
    "root.option_add(\"Font*\", \"consolas 25\") #ปรับ Font ให้เป็น consolas ขนาด 25\n",
    "\n",
    "cbo_day = ttk.Combobox(root, values=list(range(1,32)), width = 3, state=\"readonly\") # สร้าง Combobox ของวันที่โดยใช้ค่า 1-31 และปรับความกว้างของหน้าต่างให้เป็น 3 ช่องไฟ ซึ่งจะไม่สามารถแก้ค่าได้เนื่องจากใช้คำสั่ง state เป็น readonly\n",
    "cbo_day.current(0) #ตั้งค่าเริ่มต้นไว้ให้เป็นวันที่ 1 ซึ่งสามารถปรับเปลี่่ยนได้ตาต้องการ\n",
    "cbo_day.pack(side=LEFT) # ปรับค่าของ Combobox ให้อยู่ฝั่งซ้ายของหน้าต่าง\n",
    "\n",
    "cbo_month = ttk.Combobox(root, values=['Jan', 'Feb', 'Mar','Apr','May','Jun','Jul','Aug','Sep','Oct','Nov','Dec'], width = 4, state=\"readonly\") # สร้าง Combobox ของเดือนที่โดยใช้ค่าเป็นเดือน มกราคม-ธันวาคม และปรับความกว้างของหน้าต่างให้เป็น 4 ช่องไฟ ซึ่งจะไม่สามารถแก้ค่าได้เนื่องจากใช้คำสั่ง state เป็น readonly\n",
    "cbo_month.pack(side=LEFT) # ปรับค่าของ Combobox ให้อยู่ฝั่งซ้ายของหน้าต่าง\n",
    "cbo_month.current(0) #ตั้งค่าเริ่มต้นไว้ให้เป็นเดือนมกราคม สามารถปรับเปลี่ยนได้ตามต้องการ\n",
    "\n",
    "cbo_year = ttk.Combobox(root, values=list(range(1960,2020)), width = 5) # สร้าง Combobox ของเดือนที่โดยใช้ค่าเป็นปี 1960-2020 และปรับความกว้างของหน้าต่างให้เป็น 5 ช่องไฟ\n",
    "cbo_year.pack(side=LEFT) # ปรับค่าของ Combobox ให้อยู่ฝั่งซ้ายของหน้าต่าง\n",
    "cbo_year.current(0) #ตั้งค่าเริ่มต้นไว้ให้เป็นปี 1960 สามารถปรับเปลี่ยนได้ตามต้องการ\n",
    "\n",
    "\n",
    "root.mainloop()"
   ]
  },
  {
   "cell_type": "markdown",
   "metadata": {},
   "source": [
    "### การดึงค่าออกมาจาก Combobox\n"
   ]
  },
  {
   "cell_type": "markdown",
   "metadata": {},
   "source": [
    "- แสดงตัวอย่างการดึงค่าออกจามาจาก Combobox โดยการสร้าง Button"
   ]
  },
  {
   "cell_type": "code",
   "execution_count": 94,
   "metadata": {},
   "outputs": [
    {
     "name": "stdout",
     "output_type": "stream",
     "text": [
      "1 Jan 1960\n"
     ]
    }
   ],
   "source": [
    "def on_click(e): #สร้างฟังก์ชัน on_click\n",
    "    print(cbo_day.get(), cbo_month.get(), cbo_year.get())\n",
    "\n",
    "root = Tk()\n",
    "root.option_add(\"Font*\", \"consolas 25\") \n",
    "\n",
    "    \n",
    "\n",
    "\n",
    "cbo_day = ttk.Combobox(root, values=list(range(1,32)), width = 3, state=\"readonly\") \n",
    "cbo_day.current(0) \n",
    "cbo_day.pack(side=LEFT) \n",
    "\n",
    "cbo_month = ttk.Combobox(root, values=['Jan', 'Feb', 'Mar','Apr','May','Jun','Jul','Aug','Sep','Oct','Nov','Dec'], width = 4, state=\"readonly\") \n",
    "cbo_month.pack(side=LEFT) \n",
    "cbo_month.current(0) \n",
    "\n",
    "cbo_year = ttk.Combobox(root, values=list(range(1960,2020)), width = 5) \n",
    "cbo_year.pack(side=LEFT) \n",
    "cbo_year.current(0) \n",
    "\n",
    "\n",
    "btn = Button(root, text =\"submit\") #สร้าง Button โดยให้มีคำว่า submit\n",
    "btn.pack()\n",
    "btn.bind(\"<Button-1>\", on_click)\n",
    "\n",
    "root.mainloop()\n",
    "\n",
    "#ข้อมูลที่ออกมาจะอยู่ในรูปแบบ Text"
   ]
  },
  {
   "cell_type": "markdown",
   "metadata": {},
   "source": [
    "### การเปลี่ยนข้อมูลให้อยู่ในรูปของ Datetime"
   ]
  },
  {
   "cell_type": "code",
   "execution_count": 96,
   "metadata": {},
   "outputs": [
    {
     "name": "stdout",
     "output_type": "stream",
     "text": [
      "1 Jan 1960\n",
      "1960-01-01\n"
     ]
    }
   ],
   "source": [
    "\n",
    "from datetime import date # นำเข้า datetime\n",
    "\n",
    "def on_click(e): \n",
    "    print(cbo_day.get(), cbo_month.get(), cbo_year.get())\n",
    "    mm = month_list.index(cbo_month.get())+1   # แปลงเดือนให้เป็นตัวเลขตามตำแหน่งของแต่ละเดือน\n",
    "    bd = date(int(cbo_year.get()), mm, int(cbo_day.get())) #ให้เก็บค่าของวันเดือนปีในตัวแปร\n",
    "    print(bd) # ปริ้นท์ bd\n",
    "    \n",
    "month_list = ['Jan', 'Feb', 'Mar','Apr','May','Jun','Jul','Aug','Sep','Oct','Nov','Dec'] #กำหนดค่าเดือนให้อยู่ในตัวแปร\n",
    "\n",
    "root = Tk()\n",
    "root.option_add(\"Font*\", \"consolas 25\") \n",
    "\n",
    "cbo_day = ttk.Combobox(root, values=list(range(1,32)), width = 3, state=\"readonly\") \n",
    "cbo_day.current(0) \n",
    "cbo_day.pack(side=LEFT) \n",
    "\n",
    "cbo_month = ttk.Combobox(root, values=month_list, width = 4, state=\"readonly\") \n",
    "cbo_month.pack(side=LEFT) \n",
    "cbo_month.current(0) \n",
    "\n",
    "cbo_year = ttk.Combobox(root, values=list(range(1960,2020)), width = 5) \n",
    "cbo_year.pack(side=LEFT) \n",
    "cbo_year.current(0) \n",
    "\n",
    "\n",
    "btn = Button(root, text =\"submit\") #สร้าง Button โดยให้มีคำว่า submit\n",
    "btn.pack()\n",
    "btn.bind(\"<Button-1>\", on_click)\n",
    "\n",
    "root.mainloop()\n"
   ]
  },
  {
   "cell_type": "code",
   "execution_count": null,
   "metadata": {},
   "outputs": [],
   "source": []
  }
 ],
 "metadata": {
  "kernelspec": {
   "display_name": "Python 3",
   "language": "python",
   "name": "python3"
  },
  "language_info": {
   "codemirror_mode": {
    "name": "ipython",
    "version": 3
   },
   "file_extension": ".py",
   "mimetype": "text/x-python",
   "name": "python",
   "nbconvert_exporter": "python",
   "pygments_lexer": "ipython3",
   "version": "3.7.6"
  }
 },
 "nbformat": 4,
 "nbformat_minor": 4
}
