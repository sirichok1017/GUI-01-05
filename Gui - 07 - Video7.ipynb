{
 "cells": [
  {
   "cell_type": "markdown",
   "metadata": {},
   "source": [
    "## การใช้ pack layout ในการออกแบบโปรแกรมแปลงหน่วยของน้ำหนัก"
   ]
  },
  {
   "cell_type": "markdown",
   "metadata": {},
   "source": [
    "* การสร้างโปรแกรมที่ใช้ในการคำนวนน้ำหนักที่มีหน่วยเป็น \"กิโลกรัม\" ให้มีหน่วยเป็น \"ปอนด์\" โดยใช้ Pack layout"
   ]
  },
  {
   "cell_type": "code",
   "execution_count": 1,
   "metadata": {},
   "outputs": [],
   "source": [
    "import tkinter as tk"
   ]
  },
  {
   "cell_type": "code",
   "execution_count": 2,
   "metadata": {},
   "outputs": [],
   "source": [
    "from tkinter import *"
   ]
  },
  {
   "cell_type": "markdown",
   "metadata": {},
   "source": [
    "# กำนหนดฟังก์ชันและตัวแปร"
   ]
  },
  {
   "cell_type": "code",
   "execution_count": 5,
   "metadata": {},
   "outputs": [],
   "source": [
    "#กำหนดฟังก์ชันเพื่อสร้างปุ่มกด \n",
    "def on_click(): \n",
    "    lbs = tv_kg.get() * 2.2 \n",
    "    tv_lbs.set(f'{lbs:.2f} lbs.') #กำหนดให้มีทศนิยม 2 ตำแหน่ง\n",
    "#สร้างหน้าต่าง root=Tk()    \n",
    "    root = Tk()\n",
    "    root.option_add(\"*Font\", \"impact 20\") #กำนหนดขนาดของตัวอักษร\n",
    "    tv_kg = DoubleVar() #รับค่าแบบมีจุดทศนิยม\n",
    "    tv_lbs = StringVar() \n",
    "#การสร้าง Label และ รูปแบบการ input ข้อมูล\n",
    "#โดย inpit น้ำหนักที่เป็นหน่วย kg\n",
    "    Entry(root, textvariable=tv_kg, width=7, justify=\"right\").pack(side=LEFT, padx=10) #การนำเข้าข้อมูลที่เป็นทศนิยม\n",
    "#กำหนดรูปแบบ lable\n",
    "    Label(root, text=\"kg.\").pack(side=LEFT, padx=10)\n",
    "#กำหนดปุ่มโดยใช้ฟังชัน on_click ที่กำหนดไว้\n",
    "    Button(root, text=\" = \", bg=\"green\", command=on_click).pack(side=LEFT)\n",
    "#กำหนดรูปแบบ lable ที่เป็นผลลัพท์\n",
    "    Label(root, textvariable=tv_lbs).pack(side=LEFT) \n",
    "    root.mainloop()"
   ]
  },
  {
   "cell_type": "markdown",
   "metadata": {},
   "source": [
    "    lbs = tv_kg.get() # .get คือจะรับตัวแปรมาจาก entry\n",
    "    tv_lbs.set() # .set คือตั้งค่าให้ผลลัพท์ออกมายังไง\n",
    "    .pack() #คือคำสั่งบอกให้ widget นำตัวเองไปวางบน root แล้วปรับขนาดตนเองให้พอดีกับข้อความที่เราใส่ลงไป"
   ]
  }
 ],
 "metadata": {
  "kernelspec": {
   "display_name": "Python 3",
   "language": "python",
   "name": "python3"
  },
  "language_info": {
   "codemirror_mode": {
    "name": "ipython",
    "version": 3
   },
   "file_extension": ".py",
   "mimetype": "text/x-python",
   "name": "python",
   "nbconvert_exporter": "python",
   "pygments_lexer": "ipython3",
   "version": "3.7.6"
  }
 },
 "nbformat": 4,
 "nbformat_minor": 2
}
