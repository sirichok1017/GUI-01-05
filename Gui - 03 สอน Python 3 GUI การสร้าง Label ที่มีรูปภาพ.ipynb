{
 "cells": [
  {
   "cell_type": "markdown",
   "metadata": {
    "slideshow": {
     "slide_type": ""
    }
   },
   "source": [
    "# สอน Python GUI การสร้าง Label ที่มีรูปภาพ"
   ]
  },
  {
   "cell_type": "code",
   "execution_count": 1,
   "metadata": {
    "scrolled": true
   },
   "outputs": [
    {
     "data": {
      "image/jpeg": "[encoded data removed]",
      "text/html": [
       "\n",
       "        <iframe\n",
       "            width=\"400\"\n",
       "            height=\"300\"\n",
       "            src=\"https://www.youtube.com/embed/jcuvKOE8P2o\"\n",
       "            frameborder=\"0\"\n",
       "            allowfullscreen\n",
       "        ></iframe>\n",
       "        "
      ],
      "text/plain": [
       "<IPython.lib.display.YouTubeVideo at 0x1c177716e48>"
      ]
     },
     "execution_count": 1,
     "metadata": {},
     "output_type": "execute_result"
    }
   ],
   "source": [
    "from IPython.lib.display import YouTubeVideo\n",
    "YouTubeVideo('jcuvKOE8P2o')"
   ]
  },
  {
   "cell_type": "markdown",
   "metadata": {},
   "source": [
    "## การสร้าง Label ที่มีรูปภาพ TK ไม่รองรับตัว jpeg โดยตรงจึงต้องใช้ไฟล์รูปภาพนามสกุล PNG หรือ GIS "
   ]
  },
  {
   "cell_type": "code",
   "execution_count": 7,
   "metadata": {},
   "outputs": [],
   "source": [
    "import tkinter as tk #การ import ฟังก์ชันทั้งหมดที่อยู่ในโมดูล tkinter\n",
    "from tkinter import ttk  #โหลดโมดูล tkinter\n",
    "\n",
    "#สร้างออบเจ็ค ชื่อ root (ชื่ออะไรก็ได้)\n",
    "root = tk.Tk()\n",
    "\n",
    "#สร้างออบเจ็ค\n",
    "photo = PhotoImage(file=\"Gui03\\coffee.png\")\n",
    "\n",
    "#อ้างอิงชื่อออบเจ็คและเพิ่มออปชัน image สำหรับการแสดงผล\n",
    "ttk.Button(root, image=photo).pack()\n",
    "\n",
    "#คำสั่งแสดงผล GUI\n",
    "root.mainloop()\n",
    "\n",
    "#ถ้า Run จะเห็นรูป coffee ขึ้นมา"
   ]
  },
  {
   "cell_type": "code",
   "execution_count": 37,
   "metadata": {},
   "outputs": [],
   "source": [
    "import tkinter as tk #การ import ฟังก์ชันทั้งหมดที่อยู่ในโมดูล tkinter\n",
    "from tkinter import ttk  #โหลดโมดูล tkinter\n",
    "\n",
    "#สร้างออบเจ็ค ชื่อ root (ชื่ออะไรก็ได้)\n",
    "root = tk.Tk()\n",
    "\n",
    "#สร้างออบเจ็ค\n",
    "photo = PhotoImage(file=\"Gui03\\coffee.png\")\n",
    "photo_cupcake = PhotoImage(file=\"Gui03\\cupcake.png\")\n",
    "\n",
    "#อ้างอิงชื่อออบเจ็คและเพิ่มออปชัน image สำหรับการแสดงผล\n",
    "ttk.Button(root, image=photo).pack()\n",
    "ttk.Button(root, image=photo_cupcake).pack()\n",
    "\n",
    "#คำสั่งแสดงผล GUI\n",
    "root.mainloop()\n",
    "\n",
    "#ถ้า Run จะเห็นรูป coffee cupcake ขึ้นมาจาก บน -> ล่าง ตามลำดับ"
   ]
  },
  {
   "cell_type": "code",
   "execution_count": 36,
   "metadata": {},
   "outputs": [],
   "source": [
    "import tkinter as tk #การ import ฟังก์ชันทั้งหมดที่อยู่ในโมดูล tkinter\n",
    "from tkinter import ttk  #โหลดโมดูล tkinter\n",
    "\n",
    "#สร้างออบเจ็ค ชื่อ root (ชื่ออะไรก็ได้)\n",
    "root = tk.Tk()\n",
    "\n",
    "#สร้างออบเจ็ค\n",
    "photo = PhotoImage(file=\"Gui03\\coffee.png\")\n",
    "photo_cupcake = PhotoImage(file=\"Gui03\\cupcake.png\")\n",
    "\n",
    "#อ้างอิงชื่อออบเจ็คและเพิ่มออปชัน image สำหรับการแสดงผล\n",
    "#เราต้องจัดรูปแบบ ซ้ายไปขวา โดยการเปลี่ยน .pack() เป็น .pack(side=LEFT)\n",
    "ttk.Button(root, image=photo).pack(side=LEFT)\n",
    "ttk.Button(root, image=photo_cupcake).pack(side=LEFT)\n",
    "\n",
    "#คำสั่งแสดงผล GUI\n",
    "root.mainloop()\n",
    "\n",
    "#เพิ่ม ออบเจ็ค cupcake ขึ้นมา\n",
    "#ถ้า Run จะเห็นรูป coffee cupcake ขึ้นมาจาก ซ้าย -> ขวา ตามลำดับ"
   ]
  },
  {
   "cell_type": "code",
   "execution_count": 51,
   "metadata": {},
   "outputs": [],
   "source": [
    "import tkinter as tk #การ import ฟังก์ชันทั้งหมดที่อยู่ในโมดูล tkinter\n",
    "from tkinter import ttk  #โหลดโมดูล tkinter\n",
    "\n",
    "#สร้างออบเจ็ค ชื่อ root (ชื่ออะไรก็ได้)\n",
    "root = tk.Tk()\n",
    "\n",
    "#สร้างออบเจ็ค\n",
    "photo = PhotoImage(file=\"Gui03\\coffee.png\")\n",
    "photo_cupcake = PhotoImage(file=\"Gui03\\cupcake.png\")\n",
    "\n",
    "#อ้างอิงชื่อออบเจ็คและเพิ่มออปชัน image สำหรับการแสดงผล\n",
    "#เราต้องจัดรูปแบบ ซ้ายไปขวา โดยการเปลี่ยน .pack() เป็น .pack(side=LEFT)\n",
    "ttk.Button(root, image=photo).pack(side=LEFT)\n",
    "ttk.Button(root, image=photo_cupcake).pack(side=LEFT)\n",
    "\n",
    "#คำสั่งแสดงผล GUI\n",
    "root.mainloop()\n",
    "\n",
    "#ถ้า Run จะเห็นรูป coffee cupcake ขึ้นมาจาก ซ้าย -> ขวา ตามลำดับ"
   ]
  },
  {
   "cell_type": "code",
   "execution_count": 54,
   "metadata": {},
   "outputs": [],
   "source": [
    "import tkinter as tk #การ import ฟังก์ชันทั้งหมดที่อยู่ในโมดูล tkinter\n",
    "from tkinter import ttk  #โหลดโมดูล tkinter\n",
    "\n",
    "#สร้างออบเจ็ค ชื่อ root (ชื่ออะไรก็ได้)\n",
    "root = tk.Tk()\n",
    "\n",
    "#สร้างออบเจ็ค\n",
    "photo = PhotoImage(file=\"Gui03\\coffee.png\")\n",
    "photo_cupcake = PhotoImage(file=\"Gui03\\cupcake.png\")\n",
    "photo_burger = PhotoImage(file=\"Gui03\\burger.png\")\n",
    "\n",
    "#อ้างอิงชื่อออบเจ็คและเพิ่มออปชัน image สำหรับการแสดงผล\n",
    "ttk.Button(root, image=photo).pack(side=LEFT)\n",
    "ttk.Button(root, image=photo_cupcake).pack(side=LEFT)\n",
    "ttk.Button(root, image=photo_burger).pack(side=LEFT)\n",
    "\n",
    "#คำสั่งแสดงผล GUI\n",
    "root.mainloop()\n",
    "\n",
    "#เพิ่ม ออบเจ็ค burger ขึ้นมา\n",
    "#ถ้า Run จะเห็นรูป coffee cupcake burger ขึ้นมาจาก ซ้าย -> ขวา ตามลำดับ"
   ]
  },
  {
   "cell_type": "code",
   "execution_count": 56,
   "metadata": {},
   "outputs": [],
   "source": [
    "import tkinter as tk #การ import ฟังก์ชันทั้งหมดที่อยู่ในโมดูล tkinter\n",
    "from tkinter import ttk  #โหลดโมดูล tkinter\n",
    "\n",
    "#สร้างออบเจ็ค ชื่อ root (ชื่ออะไรก็ได้)\n",
    "root = tk.Tk()\n",
    "\n",
    "#สร้างออบเจ็ค\n",
    "photo = PhotoImage(file=\"Gui03\\coffee.png\")\n",
    "photo_cupcake = PhotoImage(file=\"Gui03\\cupcake.png\")\n",
    "photo_burger = PhotoImage(file=\"Gui03\\burger.png\")\n",
    "\n",
    "#อ้างอิงชื่อออบเจ็คและเพิ่มออปชัน image สำหรับการแสดงผล\n",
    "#เราจะเพิ่มจองว่างระหว่าง Button หรือ รูปภาพ โดยการใส่  padx=20, pady=15\n",
    "ttk.Button(root, image=photo).pack(side=LEFT, padx=20, pady=15)\n",
    "ttk.Button(root, image=photo_cupcake).pack(side=LEFT, padx=20, pady=15)\n",
    "ttk.Button(root, image=photo_burger).pack(side=LEFT, padx=20, pady=15)\n",
    "\n",
    "#คำสั่งแสดงผล GUI\n",
    "root.mainloop()\n",
    "\n",
    "#ถ้า Run จะเห็นว่า Button ทั้ง 3 มีช่องว่างเพิ่มขึ้น"
   ]
  },
  {
   "cell_type": "code",
   "execution_count": 58,
   "metadata": {},
   "outputs": [],
   "source": [
    "import tkinter as tk #การ import ฟังก์ชันทั้งหมดที่อยู่ในโมดูล tkinter\n",
    "from tkinter import ttk  #โหลดโมดูล tkinter\n",
    "\n",
    "#สร้างออบเจ็ค ชื่อ root (ชื่ออะไรก็ได้)\n",
    "root = tk.Tk()\n",
    "\n",
    "#สร้างออบเจ็ค\n",
    "photo = PhotoImage(file=\"Gui03\\coffee.png\")\n",
    "photo_cupcake = PhotoImage(file=\"Gui03\\cupcake.png\")\n",
    "photo_burger = PhotoImage(file=\"Gui03\\burger.png\")\n",
    "\n",
    "#อ้างอิงชื่อออบเจ็คและเพิ่มออปชัน image สำหรับการแสดงผล\n",
    "#เราต้องการจะลบขอบ Button โดยการใส่ borderwidth=0 เพิ่มเข้าไป\n",
    "ttk.Button(root, image=photo, borderwidth=0).pack(side=LEFT, padx=20, pady=15)\n",
    "ttk.Button(root, image=photo_cupcake, borderwidth=0).pack(side=LEFT, padx=20, pady=15)\n",
    "ttk.Button(root, image=photo_burger, borderwidth=0).pack(side=LEFT, padx=20, pady=15)\n",
    "\n",
    "#คำสั่งแสดงผล GUI\n",
    "root.mainloop()\n",
    "\n",
    "#ถ้า Run จะเห็นว่า Button 3 รูปที่ไม่ขอบ"
   ]
  },
  {
   "cell_type": "code",
   "execution_count": 64,
   "metadata": {},
   "outputs": [],
   "source": [
    "import tkinter as tk #การ import ฟังก์ชันทั้งหมดที่อยู่ในโมดูล tkinter\n",
    "from tkinter import ttk  #โหลดโมดูล tkinter\n",
    "\n",
    "#ชื่อออบเจ็ครูปที่เราต้องการเป็น Button\n",
    "images = ['coffee', 'burger', 'cupcake']\n",
    "\n",
    "#สร้างออบเจ็ค ชื่อ root (ชื่ออะไรก็ได้)\n",
    "root = Tk()\n",
    "\n",
    "#สร้างออบเจ็ค PhotoImage\n",
    "photos = [PhotoImage(file=f'Gui03{img}.png') for img in images]\n",
    "for i in range(len(photos)):\n",
    "    #การกำหนดรูปแบบ ของ Button PhotoImage\n",
    "    Button(root, image=photos[i], borderwidth=0).pack(side=LEFT, padx=20, pady=15)\n",
    "    \n",
    "    \n",
    "#คำสั่งแสดงผล GUI\n",
    "root.mainloop()\n",
    "\n",
    "\n",
    "#ถ้า Run จะเห็นได้ว่า ผลลัพธ์ที่ได้ออกมาจะเหมือนกับการเขียนก่อนหน้านี้"
   ]
  },
  {
   "cell_type": "code",
   "execution_count": 66,
   "metadata": {},
   "outputs": [],
   "source": [
    "import tkinter as tk #การ import ฟังก์ชันทั้งหมดที่อยู่ในโมดูล tkinter\n",
    "from tkinter import ttk  #โหลดโมดูล tkinter\n",
    "\n",
    "#ชื่อออบเจ็ครูปที่เราต้องการเป็น Button\n",
    "#มีการเพิ่ม ออบเจ็ค\n",
    "images = ['coffee', 'burger', 'cupcake', 'softdrink',  'doughnut']\n",
    "\n",
    "#สร้างออบเจ็ค ชื่อ root (ชื่ออะไรก็ได้)\n",
    "root = Tk()\n",
    "\n",
    "#สร้างออบเจ็ค PhotoImage\n",
    "photos = [PhotoImage(file=f'Gui03{img}.png') for img in images]\n",
    "for i in range(len(photos)):\n",
    "    #การกำหนดรูปแบบ ของ Button PhotoImage\n",
    "    Button(root, image=photos[i], borderwidth=0).pack(side=LEFT, padx=20, pady=15)\n",
    "    \n",
    "    \n",
    "#คำสั่งแสดงผล GUI\n",
    "root.mainloop()\n",
    "\n",
    "\n",
    "#ถ้า Run จะเห็นได้ว่ามี 'softdrink',  'doughnut' เพิ่มขึ้นมาการเขียนรูปแบบนี้เราสามารถเพิ่มออบเจ็คง่ายกว่าวิธีแรก"
   ]
  },
  {
   "cell_type": "code",
   "execution_count": null,
   "metadata": {},
   "outputs": [],
   "source": [
    "import tkinter as tk #การ import ฟังก์ชันทั้งหมดที่อยู่ในโมดูล tkinter\n",
    "from tkinter import ttk  #โหลดโมดูล tkinter\n",
    "\n",
    "#ชื่อออบเจ็ครูปที่เราต้องการเป็น Button\n",
    "#สลับตำแหน่งของ ออบเจ็ค\n",
    "images = ['coffee', 'softdrink', 'burger', 'cupcake',  'doughnut']\n",
    "\n",
    "#สร้างออบเจ็ค ชื่อ root (ชื่ออะไรก็ได้)\n",
    "root = Tk()\n",
    "\n",
    "#สร้างออบเจ็ค PhotoImage\n",
    "photos = [PhotoImage(file=f'Gui03{img}.png') for img in images]\n",
    "for i in range(len(photos)):\n",
    "    #การกำหนดรูปแบบ ของ Button PhotoImage\n",
    "    Button(root, image=photos[i], borderwidth=0).pack(side=LEFT, padx=20, pady=15)\n",
    "    \n",
    "    \n",
    "#คำสั่งแสดงผล GUI\n",
    "root.mainloop()\n",
    "\n",
    "\n",
    "#ถ้า Run จะเห็นได้ว่ามี ตำแหน่ง ออบเจ็ค จะเปลี่ยนไป ตาม images = [...] ลำดับก่อน-หลัง"
   ]
  },
  {
   "cell_type": "code",
   "execution_count": null,
   "metadata": {},
   "outputs": [],
   "source": [
    "import tkinter as tk #การ import ฟังก์ชันทั้งหมดที่อยู่ในโมดูล tkinter\n",
    "from tkinter import ttk  #โหลดโมดูล tkinter\n",
    "\n",
    "#ชื่อออบเจ็ครูปที่เราต้องการเป็น Button\n",
    "images = ['coffee', 'softdrink', 'burger', 'cupcake',  'doughnut']\n",
    "\n",
    "#สร้างออบเจ็ค ชื่อ root (ชื่ออะไรก็ได้)\n",
    "root = Tk()\n",
    "\n",
    "#สร้างออบเจ็ค PhotoImage\n",
    "photos = [PhotoImage(file=f'Gui03{img}.png') for img in images]\n",
    "for i in range(len(photos)):\n",
    "    #การกำหนดรูปแบบ ของ Button PhotoImage\n",
    "    #ลองเปลี่ยน Button เป็น Label\n",
    "    Label(root, image=photos[i], borderwidth=0).pack(side=LEFT, padx=20, pady=15)\n",
    "    \n",
    "    \n",
    "#คำสั่งแสดงผล GUI\n",
    "root.mainloop()\n",
    "\n",
    "\n",
    "#ถ้า Run จะเห็นได้ว่า ไม่ว่าจะเป็น Button เป็น Label สามารถแสดงผลด้วยรูปได้เหมือนกัน"
   ]
  }
 ],
 "metadata": {
  "kernelspec": {
   "display_name": "Python 3",
   "language": "python",
   "name": "python3"
  },
  "language_info": {
   "codemirror_mode": {
    "name": "ipython",
    "version": 3
   },
   "file_extension": ".py",
   "mimetype": "text/x-python",
   "name": "python",
   "nbconvert_exporter": "python",
   "pygments_lexer": "ipython3",
   "version": "3.7.6"
  }
 },
 "nbformat": 4,
 "nbformat_minor": 2
}
