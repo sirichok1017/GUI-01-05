{
 "cells": [
  {
   "cell_type": "markdown",
   "metadata": {},
   "source": [
    "## การใช้ Scale (Slider) widget ในการสร้างโปรแกรมผสมสี RGB ตอนที่ 1\n",
    "### การประยุกต์ใช้ scale widget ในการผสมสี แดง เขียว น้ำเงิน แล้วแสดงสีที่ผสมพร้อมรหัสสี"
   ]
  },
  {
   "cell_type": "markdown",
   "metadata": {},
   "source": [
    "<img src=\"image/1589794092579.jpg\" width=300 align=\"center\">"
   ]
  },
  {
   "cell_type": "code",
   "execution_count": 1,
   "metadata": {},
   "outputs": [],
   "source": [
    "from tkinter import *\n",
    "\n",
    "\n",
    "def on_drag(e):\n",
    "    # เติม # ด้านหน้า\n",
    "    # นำค่าแต่ละสีเช่น r.get มา format ให้อยู่ในรูปเลขฐาน 16 ด้วย :02x \n",
    "    color_hex = f'#{r.get():02X}{g.get():02X}{b.get():02X}' # ตัวแปรเก็บค่าเป็นรหัสสี\n",
    "    tv_color.set(color_hex) # color_hex ผ่านค่าให้ tv_color\n",
    "    lbl_color[\"bg\"] = color_hex # ผ่านค่ารหัสสีไปเป็น background ของ label lbl_color\n",
    "\n"
   ]
  },
  {
   "cell_type": "code",
   "execution_count": 2,
   "metadata": {},
   "outputs": [],
   "source": [
    "root = Tk() # สร้าง root ขึ้นมาเป็น main window\n",
    "root.option_add(\"*Font\", \"consolas 20\") # กำหนดรูปแบบอักษร และขนาดตัวอักษรทั้งหมดใน widget \n",
    "\n",
    "tv_color = StringVar() # รับค่ามาเป็นแบบ String\n",
    "\n",
    "# สร้าง label red, green, blue ใส่ที่ root ในรูปแบบ grid แถวที่ 0,1,2 คอลัมน์ที่ 0  ให้ชิดซ้ายล่าง(sw)\n",
    "# คำสั่ง sticky = (ทิศที่เรากำหนด)ซึ่งในที่นี้เราต้องให้ให้ชิดล่างซ้ายหรือก็คือทิศใต้และทิศตะวันตก\n",
    "Label(root, text=\"red\", fg=\"red\").grid(row=0, column=0, sticky=\"sw\")\n",
    "Label(root, text=\"green\", fg=\"green\").grid(row=1, column=0, sticky=\"sw\")\n",
    "Label(root, text=\"blue\", fg=\"blue\").grid(row=2, column=0, sticky=\"sw\")\n",
    "\n",
    "# สร้าง slider scale จาก 0-255 โดยวางตามแนวนอน ใส่ไว้ใน object r เพื่อรับค่าสีแดง\n",
    "# หากว่าเราต้องการให้ Scale มีขนาดที่ใหญ่ขึ้น เราสามารถเพิ่มด้วยการกำหนดความยาวกับความกว้างเข้าไป\n",
    "# โดยใช้ length = (ความยาวที่เราต้องการ) , width = (ความกว้างที่เราต้องการ)\n",
    "r = Scale(root, from_=0, to=255, orient=HORIZONTAL, length=200, width=30, fg=\"red\")\n",
    "r.grid(row=0, column=1) # วางตำแหน่งไว้ที่ grid แถวที่ 0 คอลัมน์ที่ 1\n",
    "r.set(128) #set ค่าเริ่มต้นเป็น 128\n",
    "\n",
    "# '<B1-Motion>'เมื่อใดก็ตามที่มีการลาก Scale ให้ส่งค่าไปที่ function on_drag\n",
    "# '<Button-1>'เมื่อใดก็ตามที่มีการคลิกเมาส์ซ้าย ให้ส่งค่าไปที่ function on_drag\n",
    "# หากเราไม่ทำการส่งค่าใน Scale ตัว Scale จะแค่เลื่อนไปมาได้อย่างเดียว\n",
    "r.bind('<B1-Motion>', on_drag)\n",
    "r.bind('<Button-1>', on_drag)\n",
    "\n",
    "# สร้าง slider scale จาก 0-255 โดยวางตามแนวนอน ใส่ไว้ใน object g เพื่อรับค่าสีเขียว\n",
    "g = Scale(root, from_=0, to=255, orient=HORIZONTAL, length=200, width=30, fg=\"green\")\n",
    "g.grid(row=1, column=1) # วางตำแหน่งไว้ที่ grid แถวที่ 1 คอลัมน์ที่ 1\n",
    "g.bind('<B1-Motion>', on_drag)\n",
    "g.bind('<Button-1>', on_drag)\n",
    "g.set(128) #set ค่าเริ่มต้นเป็น 128\n",
    "\n",
    "# สร้าง slider scale จาก 0-255 โดยวางตามแนวนอน ใส่ไว้ใน object b เพื่อรับค่าสีน้ำเงิน\n",
    "b = Scale(root, from_=0, to=255, orient=HORIZONTAL, length=200, width=30, fg=\"blue\")\n",
    "b.grid(row=2, column=1) # วางตำแหน่งไว้ที่ grid แถวที่ 2 คอลัมน์ที่ 1\n",
    "b.set(128) #set ค่าเริ่มต้นเป็น 128\n",
    "b.bind('<B1-Motion>', on_drag)\n",
    "b.bind('<Button-1>', on_drag)\n",
    "\n",
    "# สร้าง label lbl_color ใส่ที่ root \n",
    "lbl_color = Label(root, textvariable=tv_color)\n",
    "\n",
    "# วางตำแหน่งไว้ที่ grid แถวที่ 3 กว้าง 2 และให้ขอบของ label ชิดทุกทิศ บนล่างซ้ายขวา (news)\n",
    "lbl_color.grid(row=3, columnspan=2, sticky=\"news\")  \n",
    "\n",
    "# คำสั่งแสดง GUI window ถ้าไม่มีคำสั่งนี้เวลาสั่ง run จะไม่มีหน้าต่างขึ้น \n",
    "root.mainloop()"
   ]
  },
  {
   "cell_type": "code",
   "execution_count": null,
   "metadata": {},
   "outputs": [],
   "source": []
  }
 ],
 "metadata": {
  "kernelspec": {
   "display_name": "Python 3",
   "language": "python",
   "name": "python3"
  },
  "language_info": {
   "codemirror_mode": {
    "name": "ipython",
    "version": 3
   },
   "file_extension": ".py",
   "mimetype": "text/x-python",
   "name": "python",
   "nbconvert_exporter": "python",
   "pygments_lexer": "ipython3",
   "version": "3.8.1"
  }
 },
 "nbformat": 4,
 "nbformat_minor": 2
}
