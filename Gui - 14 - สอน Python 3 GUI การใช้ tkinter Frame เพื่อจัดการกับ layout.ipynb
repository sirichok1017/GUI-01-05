{
 "cells": [
  {
   "cell_type": "markdown",
   "metadata": {},
   "source": [
    "# Frame"
   ]
  },
  {
   "cell_type": "markdown",
   "metadata": {},
   "source": [
    "การสร้าง frame ใส่ widget หลายๆแบบไปวางใส่\n",
    "<br> ประโยชน์ของ Frame ช่วยในการจัด layout หลายๆรูปแบบ"
   ]
  },
  {
   "cell_type": "code",
   "execution_count": 2,
   "metadata": {},
   "outputs": [],
   "source": [
    "from tkinter import *\n",
    "\n",
    "root = Tk()\n",
    "root.option_add(\"*Font\", \"consolas 20\") #กำหนดขนาด font ของทุก widget\n",
    "#กำหนด frame 1 \n",
    "f1 = Frame(root, bg=\"green\")\n",
    "f1.grid(row=0, column=0, columnspan=2) \n",
    "#กำหนด Frame 2\n",
    "f2 = Frame(root, bg=\"red\")\n",
    "f2.grid(row=1, column=0)\n",
    "#กำหนด Frame 3\n",
    "f3 = Frame(root, bg=\"blue\")\n",
    "f3.grid(row=1, column=1, sticky=\"news\")\n",
    "#กำหนด label frame 1 \n",
    "Label(f1, text=\"this is a label\", width=25).pack(padx=10, pady=10)\n",
    "\n",
    "root.mainloop()\n"
   ]
  },
  {
   "cell_type": "markdown",
   "metadata": {},
   "source": [
    "<img src=\"Image/Frame 1.jpg\" width=200>\n",
    "\n",
    "จะแสดง frame แรก คำว่า \"this is a label\" พื้นหลังสีเขียว"
   ]
  },
  {
   "cell_type": "code",
   "execution_count": 4,
   "metadata": {},
   "outputs": [],
   "source": [
    "from tkinter import *\n",
    "\n",
    "root = Tk()\n",
    "root.option_add(\"*Font\", \"consolas 20\") #กำหนดขนาด font ของทุก widget\n",
    "#กำหนด frame 1 \n",
    "f1 = Frame(root, bg=\"green\")\n",
    "f1.grid(row=0, column=0, columnspan=2) \n",
    "#กำหนด Frame 2\n",
    "f2 = Frame(root, bg=\"red\")\n",
    "f2.grid(row=1, column=0)\n",
    "#กำหนด Frame 3\n",
    "f3 = Frame(root, bg=\"blue\")\n",
    "f3.grid(row=1, column=1, sticky=\"news\")\n",
    "\n",
    "#กำหนด label frame 1 \n",
    "Label(f1, text=\"this is a label\", width=25).pack(padx=10, pady=10)\n",
    "\n",
    "#กำหนด label frame 2\n",
    "for menu in ['mocha', 'latte', 'espresso', 'americano', 'cappuccino']: #สร้าง loop การ run menu ตาม list\n",
    "    Button(f2, text=menu).pack(fill=X, padx=10, pady=10) #สร้างปุ่มเมนู\n",
    "\n",
    "\n",
    "root.mainloop()"
   ]
  },
  {
   "cell_type": "markdown",
   "metadata": {},
   "source": [
    "<img src=\"Image/Frame 2.jpg\" width=200>\n",
    "\n",
    "จะแสดง Frame แรก คำว่า \"this is a label\" พื้นหลังสีเขียว\n",
    "และ Frame 2ชื่อเมนูที่กำหนดไว้ทั้งหมด พื้นหลังสีแดง"
   ]
  },
  {
   "cell_type": "code",
   "execution_count": 6,
   "metadata": {},
   "outputs": [],
   "source": [
    "from tkinter import *\n",
    "\n",
    "root = Tk()\n",
    "root.option_add(\"*Font\", \"consolas 20\") #กำหนดขนาด font ของทุก widget\n",
    "#กำหนด frame 1 \n",
    "f1 = Frame(root, bg=\"green\")\n",
    "f1.grid(row=0, column=0, columnspan=2) \n",
    "#กำหนด Frame 2\n",
    "f2 = Frame(root, bg=\"red\")\n",
    "f2.grid(row=1, column=0)\n",
    "#กำหนด Frame 3\n",
    "f3 = Frame(root, bg=\"blue\")\n",
    "f3.grid(row=1, column=1, sticky=\"news\")\n",
    "\n",
    "#กำหนด label frame 1 \n",
    "Label(f1, text=\"this is a label\", width=25).pack(padx=10, pady=10)\n",
    "\n",
    "#กำหนด label frame 2\n",
    "for menu in ['mocha', 'latte', 'espresso', 'americano', 'cappuccino']: #สร้าง loop การ run menu ตาม list\n",
    "    Button(f2, text=menu).pack(fill=X, padx=10, pady=10) #สร้างปุ่มเมนู\n",
    "\n",
    "#กำหนด label frame 3\n",
    "for i, c in enumerate(\"1234567890\"): #สร้างตัวปุ่มตัวเลข\n",
    "    Button(f3, text=c).grid(row=i // 3, column=i % 3, padx=5, pady=5) \n",
    "    #กำหนดการเรียงปุ่ม แถวที่หาร 3 ลงตัวกี่ครั้งจะเป็นตำแหน่งแถว และที่หาร 3 ลงตัวกี่ครั้งจะเป็นตำแหน่งหลัก ตามลำดับของการ run\n",
    "\n",
    "root.mainloop()\n"
   ]
  },
  {
   "cell_type": "markdown",
   "metadata": {},
   "source": [
    "<img src=\"Image/Frame 3.jpg\" width=200>\n",
    "\n",
    "จะแสดง Frame แรก คำว่า \"this is a label\" พื้นหลังสีเขียว\n",
    "และ Frame 2 ชื่อเมนูที่กำหนดไว้ทั้งหมด พื้นหลังสีแดง\n",
    "และ Frame 3 เป็นตัวเลข 1 , 2 , ... , 0"
   ]
  },
  {
   "cell_type": "code",
   "execution_count": null,
   "metadata": {},
   "outputs": [],
   "source": []
  }
 ],
 "metadata": {
  "kernelspec": {
   "display_name": "Python 3",
   "language": "python",
   "name": "python3"
  },
  "language_info": {
   "codemirror_mode": {
    "name": "ipython",
    "version": 3
   },
   "file_extension": ".py",
   "mimetype": "text/x-python",
   "name": "python",
   "nbconvert_exporter": "python",
   "pygments_lexer": "ipython3",
   "version": "3.7.6"
  }
 },
 "nbformat": 4,
 "nbformat_minor": 2
}
