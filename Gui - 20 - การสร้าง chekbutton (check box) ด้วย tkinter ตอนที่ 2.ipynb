{
 "cells": [
  {
   "cell_type": "markdown",
   "metadata": {},
   "source": [
    "# การสร้าง chekbutton (checkbox) ด้วย tkinter ตอนที่ 2\n",
    "\n",
    "   ### เทคนิคการเขียนโปรแกรมโดยใช้ตัว checkbox ด้วยการเขียน code ให้กระชับขึ้นในกรณีที่มี checkbox หลายตัว"
   ]
  },
  {
   "cell_type": "markdown",
   "metadata": {},
   "source": [
    "<img src=\"image/1589779879940.jpg\" width=200 align=\"center\">"
   ]
  },
  {
   "cell_type": "code",
   "execution_count": 1,
   "metadata": {},
   "outputs": [],
   "source": [
    "\n",
    "from tkinter import * # นำเข้าทุกคำสั่งของ tkinter"
   ]
  },
  {
   "cell_type": "code",
   "execution_count": 2,
   "metadata": {},
   "outputs": [],
   "source": [
    "def on_click(): # run ฟังก์ชันเมื่อกดปุ่ม\n",
    "    \n",
    "    lst = [interests[i] for i, chk in enumerate(chks) if chk.get()] # ถ้า chk.get() = true ให้เก็บค่าไว้ใน list ชื่อ lst \n",
    "    \n",
    "    # print(lst) คำสั่งนี้จะ print ออกมาเป็น list\n",
    "    print(\",\".join(lst)) # print list รวมกันและคั่นด้วย comma \n",
    "\n",
    "    # คำสั่งก่อนหน้าที่จะปรับปรุงให้กระชับขึ้น\n",
    "    # print(chk1.get(), chk2.get(), chk3.get(), chk4.get(), chk5.get(), chk6.get())\n",
    "    # for i, chk in enumerate(chks):\n",
    "    #     if chk.get():\n",
    "    #         # print(chk.get())\n",
    "    #         print(interests[i])    "
   ]
  },
  {
   "cell_type": "code",
   "execution_count": 3,
   "metadata": {},
   "outputs": [],
   "source": [
    "\n",
    "interests = ['Music', 'Book', 'Movie', 'Photography', 'Game', 'Travel'] # เก็บความสนใจไว้เป็น list"
   ]
  },
  {
   "cell_type": "code",
   "execution_count": 4,
   "metadata": {},
   "outputs": [],
   "source": [
    "\n",
    "root = Tk() # สร้าง root ขึ้นมาเป็น main window\n",
    "\n",
    "root.option_add(\"*Font\", \"impact 30\") # กำหนดรูปแบบอักษร และขนาดตัวอักษรทั้งหมดใน widget "
   ]
  },
  {
   "cell_type": "code",
   "execution_count": 5,
   "metadata": {},
   "outputs": [],
   "source": [
    "# สร้าง list chks เก็บตัวแปรประเภท boolean ทั้งหมด 6 ตัว โดยคำสังแถวเดียวทดแทนคำสั่ง 6 แถวด้านล่างใน  comment\n",
    "chks = [BooleanVar() for i in interests]\n",
    "# chk1 = BooleanVar()\n",
    "# chk2 = BooleanVar()\n",
    "# chk3 = BooleanVar()\n",
    "# chk4 = BooleanVar()\n",
    "# chk5 = BooleanVar()\n",
    "# chk6 = BooleanVar()"
   ]
  },
  {
   "cell_type": "code",
   "execution_count": 6,
   "metadata": {},
   "outputs": [],
   "source": [
    "# ใส่ label ใน root ให้ background เป็นสีทอง และรูปแบบการจัดเรียงแบบบนลงล่าง\n",
    "Label(root, text=\"Your interests\", bg=\"gold\").pack()"
   ]
  },
  {
   "cell_type": "code",
   "execution_count": 7,
   "metadata": {},
   "outputs": [],
   "source": [
    "\n",
    "# i รับค่าตัวเลข บอกถึง index ในตัวแปร interests แต่ละตัวที่อยู่ใน list\n",
    "# s รับค่าข้อมูลตัวแปร interests แต่ละตัวที่อยู่ใน list\n",
    "# enumerate เป็นคำสั่งแจกแจงค่า index และข้อมูลในรูปแบบ Tuple ดังนี้ (Index,Value) โดยต้องใช้กับข้อมูลชนิด list\n",
    "for i, s in enumerate(interests):\n",
    "    Checkbutton(root, text=s, variable=chks[i]).pack(anchor=W)  # anchor=W คือคำสั่งชิดซ้าย W=west\n",
    "\n",
    "# Checkbutton(root, text=\"Music\", variable=chk1).pack(anchor=W) # W = West\n",
    "# Checkbutton(root, text=\"Book\", variable=chk2).pack(anchor=W)\n",
    "# Checkbutton(root, text=\"Movie\", variable=chk3).pack(anchor=W)\n",
    "# Checkbutton(root, text=\"Photography\", variable=chk4).pack(anchor=W)\n",
    "# Checkbutton(root, text=\"Game\", variable=chk5).pack(anchor=W)\n",
    "# Checkbutton(root, text=\"Travel\", variable=chk6).pack(anchor=W)\n"
   ]
  },
  {
   "cell_type": "code",
   "execution_count": 8,
   "metadata": {},
   "outputs": [],
   "source": [
    "# สร้างปุ่ม Submit ใส่ใน root เมื่อกดแล้วจะรันคำสั่ง on_click\n",
    "Button(root, text=\"submit\", command=on_click).pack()"
   ]
  },
  {
   "cell_type": "code",
   "execution_count": 9,
   "metadata": {},
   "outputs": [],
   "source": [
    "# คำสั่งแสดง GUI window ถ้าไม่มีคำสั่งนี้เวลาสั่ง run จะไม่มีหน้าต่างขึ้น \n",
    "root.mainloop()"
   ]
  },
  {
   "cell_type": "markdown",
   "metadata": {},
   "source": [
    "\n"
   ]
  }
 ],
 "metadata": {
  "kernelspec": {
   "display_name": "Python 3",
   "language": "python",
   "name": "python3"
  },
  "language_info": {
   "codemirror_mode": {
    "name": "ipython",
    "version": 3
   },
   "file_extension": ".py",
   "mimetype": "text/x-python",
   "name": "python",
   "nbconvert_exporter": "python",
   "pygments_lexer": "ipython3",
   "version": "3.8.1"
  }
 },
 "nbformat": 4,
 "nbformat_minor": 2
}
